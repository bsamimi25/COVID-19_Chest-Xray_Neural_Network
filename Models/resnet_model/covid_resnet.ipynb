{
 "cells": [
  {
   "cell_type": "code",
   "execution_count": 1,
   "metadata": {},
   "outputs": [],
   "source": [
    "from tensorflow.keras.preprocessing.image import ImageDataGenerator\n",
    "from tensorflow.keras.losses import SparseCategoricalCrossentropy\n",
    "from tensorflow.keras.applications import VGG16\n",
    "from tensorflow.keras.applications.resnet50 import ResNet50 \n",
    "from keras.applications.vgg16 import preprocess_input\n",
    "from tensorflow.keras.layers import Activation, Dense, Dropout, Flatten, BatchNormalization, Conv2D, MaxPooling2D, Lambda, Input, AveragePooling2D\n",
    "from tensorflow.keras.models import Sequential, Model\n",
    "from tensorflow.keras.layers import Input\n",
    "from tensorflow.keras import layers\n",
    "from tensorflow.keras.utils import to_categorical\n",
    "from sklearn.preprocessing import LabelBinarizer\n",
    "from sklearn.model_selection import train_test_split\n",
    "from tensorflow.keras.preprocessing import image\n",
    "from tensorflow.keras.optimizers import Adam\n",
    "from tensorflow.keras.optimizers import SGD\n",
    "from tensorflow.keras.preprocessing import image\n",
    "from tensorflow.keras import backend as K\n",
    "import tensorflow as tf \n",
    "import matplotlib.pyplot as plt \n",
    "import numpy as np \n",
    "import pandas as pd\n",
    "import random\n",
    "#import cv2\n",
    "import os"
   ]
  },
  {
   "cell_type": "code",
   "execution_count": 2,
   "metadata": {},
   "outputs": [
    {
     "name": "stdout",
     "output_type": "stream",
     "text": [
      "total Covid images: 1327\n",
      "total Normal images: 1341\n",
      "total Viral_Pneumonia: 1463\n"
     ]
    }
   ],
   "source": [
    "covid_dir=os.path.join(\"Database/COVID19\")\n",
    "norm_dir=os.path.join(\"Database/NORMAL\")\n",
    "pneu_dir=os.path.join(\"Database/Viral_Pneumonia\")\n",
    "\n",
    "\n",
    "print('total Covid images:', len(os.listdir(covid_dir)))\n",
    "print('total Normal images:', len(os.listdir(norm_dir)))\n",
    "print('total Viral_Pneumonia:', len(os.listdir(pneu_dir)))"
   ]
  },
  {
   "cell_type": "code",
   "execution_count": 3,
   "metadata": {},
   "outputs": [
    {
     "name": "stdout",
     "output_type": "stream",
     "text": [
      "Found 2893 images belonging to 3 classes.\n",
      "Found 1238 images belonging to 3 classes.\n"
     ]
    }
   ],
   "source": [
    "img_width, img_height=(224,224)\n",
    "batch_size=128\n",
    "\n",
    "data_dir = \"Database/\"\n",
    "\n",
    "# Rescale images \n",
    "datagen= ImageDataGenerator(rescale=1/255,validation_split=.3,rotation_range=20,\n",
    "                           shear_range=.2,width_shift_range=0.1,height_shift_range=0.1,zoom_range=0.2,\n",
    "                           preprocessing_function=preprocess_input)\n",
    "\n",
    "# Flow training images in batches of 128 using train_data \n",
    "train_generator= datagen.flow_from_directory(\n",
    "                data_dir,\n",
    "                target_size=(img_width,img_height),\n",
    "                batch_size=batch_size,\n",
    "                subset=\"training\",\n",
    "                class_mode=\"categorical\", \n",
    "                classes= [\"COVID19\", \"NORMAL\",\"Viral_Pneumonia\"],\n",
    "                shuffle=True, seed=30)\n",
    "\n",
    "\n",
    "datagen2=ImageDataGenerator(rescale=1/255,validation_split=.3,\n",
    "                           preprocessing_function=preprocess_input)\n",
    "\n",
    "test_generator=datagen2.flow_from_directory(\n",
    "                data_dir,\n",
    "                target_size=(img_width,img_height),\n",
    "                batch_size=batch_size,\n",
    "                classes= [\"COVID19\", \"NORMAL\",\"Viral_Pneumonia\"],\n",
    "                class_mode=\"categorical\", subset=\"validation\", shuffle=True, seed=30)"
   ]
  },
  {
   "cell_type": "markdown",
   "metadata": {},
   "source": [
    "## Transfer Learning Model- Resnet"
   ]
  },
  {
   "cell_type": "code",
   "execution_count": 4,
   "metadata": {},
   "outputs": [],
   "source": [
    "classifier = ResNet50(weights='imagenet', include_top=False, input_shape=(224,224,3))\n",
    "\n",
    "# x=classifier.output\n",
    "# x=AveragePooling2D()(x)\n",
    "# x=Dense(64, activation=\"relu\")(x)\n",
    "# predictions=Dense(3, activation=\"softmax\")(x)\n",
    "# model=Model(inputs=classifier.input,outputs=predictions)\n",
    "\n",
    "x=Flatten()(classifier.output)\n",
    "x=Dense(3, activation=\"softmax\")(x)\n",
    "model=Model(inputs=classifier.input,outputs=x)\n",
    "\n",
    "\n",
    "for layer in classifier.layers:\n",
    "    layer.trainable=False\n",
    "    \n",
    "model.compile(loss=\"categorical_crossentropy\", optimizer=\"adam\",metrics=[\"accuracy\"])"
   ]
  },
  {
   "cell_type": "code",
   "execution_count": 5,
   "metadata": {},
   "outputs": [
    {
     "name": "stdout",
     "output_type": "stream",
     "text": [
      "Epoch 1/50\n",
      "23/23 [==============================] - 204s 9s/step - loss: 4.5271 - accuracy: 0.3643 - val_loss: 1.3551 - val_accuracy: 0.3538\n",
      "Epoch 2/50\n",
      "23/23 [==============================] - 198s 9s/step - loss: 1.0541 - accuracy: 0.5116 - val_loss: 0.7564 - val_accuracy: 0.6712\n",
      "Epoch 3/50\n",
      "23/23 [==============================] - 201s 9s/step - loss: 0.7405 - accuracy: 0.6657 - val_loss: 0.5886 - val_accuracy: 0.7569\n",
      "Epoch 4/50\n",
      "23/23 [==============================] - 226s 10s/step - loss: 0.6866 - accuracy: 0.7110 - val_loss: 0.6149 - val_accuracy: 0.6979\n",
      "Epoch 5/50\n",
      "23/23 [==============================] - 212s 9s/step - loss: 0.6348 - accuracy: 0.7404 - val_loss: 0.5362 - val_accuracy: 0.8150\n",
      "Epoch 6/50\n",
      "23/23 [==============================] - 216s 9s/step - loss: 0.6316 - accuracy: 0.7363 - val_loss: 0.6424 - val_accuracy: 0.6922\n",
      "Epoch 7/50\n",
      "23/23 [==============================] - 211s 9s/step - loss: 0.6192 - accuracy: 0.7425 - val_loss: 0.4314 - val_accuracy: 0.8473\n",
      "Epoch 8/50\n",
      "23/23 [==============================] - 190s 8s/step - loss: 0.5925 - accuracy: 0.7698 - val_loss: 0.4461 - val_accuracy: 0.8199\n",
      "Epoch 9/50\n",
      "23/23 [==============================] - 190s 8s/step - loss: 0.6154 - accuracy: 0.7259 - val_loss: 0.5641 - val_accuracy: 0.7706\n",
      "Epoch 10/50\n",
      "23/23 [==============================] - 191s 8s/step - loss: 0.5655 - accuracy: 0.7656 - val_loss: 0.5082 - val_accuracy: 0.7868\n",
      "Epoch 11/50\n",
      "23/23 [==============================] - 193s 8s/step - loss: 0.4974 - accuracy: 0.8189 - val_loss: 0.4638 - val_accuracy: 0.8223\n",
      "Epoch 12/50\n",
      "23/23 [==============================] - 191s 8s/step - loss: 0.4928 - accuracy: 0.8213 - val_loss: 0.4784 - val_accuracy: 0.8166\n",
      "Epoch 13/50\n",
      "23/23 [==============================] - 190s 8s/step - loss: 0.5589 - accuracy: 0.7694 - val_loss: 0.4252 - val_accuracy: 0.8554\n",
      "Epoch 14/50\n",
      "23/23 [==============================] - 190s 8s/step - loss: 0.5716 - accuracy: 0.7618 - val_loss: 0.3566 - val_accuracy: 0.8691\n",
      "Epoch 15/50\n",
      "23/23 [==============================] - 189s 8s/step - loss: 0.4946 - accuracy: 0.8054 - val_loss: 0.3754 - val_accuracy: 0.8546\n",
      "Epoch 16/50\n",
      "23/23 [==============================] - 198s 9s/step - loss: 0.4743 - accuracy: 0.8151 - val_loss: 0.3463 - val_accuracy: 0.8667\n",
      "Epoch 17/50\n",
      "23/23 [==============================] - 202s 9s/step - loss: 0.4580 - accuracy: 0.8337 - val_loss: 0.5069 - val_accuracy: 0.8013\n",
      "Epoch 18/50\n",
      "23/23 [==============================] - 195s 8s/step - loss: 0.4594 - accuracy: 0.8258 - val_loss: 0.5916 - val_accuracy: 0.7415\n",
      "Epoch 19/50\n",
      "23/23 [==============================] - 189s 8s/step - loss: 0.5234 - accuracy: 0.7860 - val_loss: 0.4097 - val_accuracy: 0.8320\n",
      "Epoch 20/50\n",
      "23/23 [==============================] - 189s 8s/step - loss: 0.4671 - accuracy: 0.8078 - val_loss: 0.5511 - val_accuracy: 0.7771\n",
      "Epoch 21/50\n",
      "23/23 [==============================] - 2458s 107s/step - loss: 0.4887 - accuracy: 0.7968 - val_loss: 0.4005 - val_accuracy: 0.8433\n",
      "Epoch 22/50\n",
      "23/23 [==============================] - 547s 24s/step - loss: 0.4174 - accuracy: 0.8465 - val_loss: 0.4478 - val_accuracy: 0.8263\n",
      "Epoch 23/50\n",
      "23/23 [==============================] - 191s 8s/step - loss: 0.4085 - accuracy: 0.8434 - val_loss: 0.3748 - val_accuracy: 0.8740\n",
      "Epoch 24/50\n",
      "23/23 [==============================] - 190s 8s/step - loss: 0.4409 - accuracy: 0.8223 - val_loss: 0.3393 - val_accuracy: 0.8788\n",
      "Epoch 25/50\n",
      "23/23 [==============================] - 191s 8s/step - loss: 0.4320 - accuracy: 0.8313 - val_loss: 0.3591 - val_accuracy: 0.8570\n",
      "Epoch 26/50\n",
      "23/23 [==============================] - 190s 8s/step - loss: 0.5656 - accuracy: 0.7567 - val_loss: 0.3411 - val_accuracy: 0.8780\n",
      "Epoch 27/50\n",
      "23/23 [==============================] - 191s 8s/step - loss: 0.4187 - accuracy: 0.8413 - val_loss: 0.3266 - val_accuracy: 0.8821\n",
      "Epoch 28/50\n",
      "23/23 [==============================] - 192s 8s/step - loss: 0.3972 - accuracy: 0.8521 - val_loss: 0.4967 - val_accuracy: 0.8150\n",
      "Epoch 29/50\n",
      "23/23 [==============================] - 870s 38s/step - loss: 0.4025 - accuracy: 0.8458 - val_loss: 0.3516 - val_accuracy: 0.8578\n",
      "Epoch 30/50\n",
      "23/23 [==============================] - 188s 8s/step - loss: 0.4138 - accuracy: 0.8431 - val_loss: 0.3173 - val_accuracy: 0.8788\n",
      "Epoch 31/50\n",
      "23/23 [==============================] - 189s 8s/step - loss: 0.4057 - accuracy: 0.8413 - val_loss: 0.4004 - val_accuracy: 0.8530\n",
      "Epoch 32/50\n",
      "23/23 [==============================] - 862s 37s/step - loss: 0.3700 - accuracy: 0.8700 - val_loss: 0.3324 - val_accuracy: 0.8724\n",
      "Epoch 33/50\n",
      "23/23 [==============================] - 191s 8s/step - loss: 0.3900 - accuracy: 0.8483 - val_loss: 0.4658 - val_accuracy: 0.8134\n",
      "Epoch 34/50\n",
      "23/23 [==============================] - 190s 8s/step - loss: 0.4242 - accuracy: 0.8289 - val_loss: 0.3467 - val_accuracy: 0.8813\n",
      "Epoch 35/50\n",
      "23/23 [==============================] - 192s 8s/step - loss: 0.5070 - accuracy: 0.7898 - val_loss: 0.3529 - val_accuracy: 0.8554\n",
      "Epoch 36/50\n",
      "23/23 [==============================] - 684s 30s/step - loss: 0.4085 - accuracy: 0.8472 - val_loss: 0.3521 - val_accuracy: 0.8659\n",
      "Epoch 37/50\n",
      "23/23 [==============================] - 192s 8s/step - loss: 0.3523 - accuracy: 0.8680 - val_loss: 0.3012 - val_accuracy: 0.8869\n",
      "Epoch 38/50\n",
      "23/23 [==============================] - 191s 8s/step - loss: 0.3712 - accuracy: 0.8569 - val_loss: 0.3252 - val_accuracy: 0.8764\n",
      "Epoch 39/50\n",
      "23/23 [==============================] - 210s 9s/step - loss: 0.3687 - accuracy: 0.8686 - val_loss: 0.3234 - val_accuracy: 0.8780\n",
      "Epoch 40/50\n",
      "23/23 [==============================] - 193s 8s/step - loss: 0.4143 - accuracy: 0.8341 - val_loss: 0.4520 - val_accuracy: 0.8263\n",
      "Epoch 41/50\n",
      "23/23 [==============================] - 191s 8s/step - loss: 0.4525 - accuracy: 0.8254 - val_loss: 0.3100 - val_accuracy: 0.8861\n",
      "Epoch 42/50\n",
      "23/23 [==============================] - 192s 8s/step - loss: 0.4346 - accuracy: 0.8317 - val_loss: 0.4313 - val_accuracy: 0.8384\n",
      "Epoch 43/50\n",
      "23/23 [==============================] - 191s 8s/step - loss: 0.4593 - accuracy: 0.8171 - val_loss: 0.9663 - val_accuracy: 0.6906\n",
      "Epoch 44/50\n",
      "23/23 [==============================] - 1864s 81s/step - loss: 0.5379 - accuracy: 0.7864 - val_loss: 0.3453 - val_accuracy: 0.8700\n",
      "Epoch 45/50\n",
      "23/23 [==============================] - 190s 8s/step - loss: 0.4499 - accuracy: 0.8165 - val_loss: 0.3712 - val_accuracy: 0.8667\n",
      "Epoch 46/50\n",
      "23/23 [==============================] - 196s 9s/step - loss: 0.4198 - accuracy: 0.8406 - val_loss: 0.4174 - val_accuracy: 0.8506\n",
      "Epoch 47/50\n",
      "23/23 [==============================] - 690s 30s/step - loss: 0.3476 - accuracy: 0.8669 - val_loss: 0.3067 - val_accuracy: 0.8805\n",
      "Epoch 48/50\n",
      "23/23 [==============================] - 3054s 133s/step - loss: 0.3725 - accuracy: 0.8645 - val_loss: 0.3857 - val_accuracy: 0.8595\n",
      "Epoch 49/50\n",
      "23/23 [==============================] - 1074s 47s/step - loss: 0.3823 - accuracy: 0.8521 - val_loss: 0.3530 - val_accuracy: 0.8764\n",
      "Epoch 50/50\n",
      "23/23 [==============================] - 2219s 96s/step - loss: 0.4200 - accuracy: 0.8368 - val_loss: 0.3987 - val_accuracy: 0.8554\n"
     ]
    }
   ],
   "source": [
    "total_sample= train_generator.n\n",
    "batch_size=128\n",
    "\n",
    "\n",
    "history= model.fit(train_generator,epochs=50, validation_data=test_generator)"
   ]
  },
  {
   "cell_type": "code",
   "execution_count": 11,
   "metadata": {},
   "outputs": [
    {
     "ename": "AttributeError",
     "evalue": "'History' object has no attribute 'save'",
     "output_type": "error",
     "traceback": [
      "\u001b[0;31m---------------------------------------------------------------------------\u001b[0m",
      "\u001b[0;31mAttributeError\u001b[0m                            Traceback (most recent call last)",
      "\u001b[0;32m<ipython-input-11-a4cba6176509>\u001b[0m in \u001b[0;36m<module>\u001b[0;34m\u001b[0m\n\u001b[1;32m      1\u001b[0m \u001b[0;31m# Save Model\u001b[0m\u001b[0;34m\u001b[0m\u001b[0;34m\u001b[0m\u001b[0;34m\u001b[0m\u001b[0m\n\u001b[0;32m----> 2\u001b[0;31m \u001b[0mhistory\u001b[0m\u001b[0;34m.\u001b[0m\u001b[0msave\u001b[0m\u001b[0;34m(\u001b[0m\u001b[0;34m\"Database/Saved_Models/ResNet_model.h5\"\u001b[0m\u001b[0;34m)\u001b[0m\u001b[0;34m\u001b[0m\u001b[0;34m\u001b[0m\u001b[0m\n\u001b[0m",
      "\u001b[0;31mAttributeError\u001b[0m: 'History' object has no attribute 'save'"
     ]
    }
   ],
   "source": [
    "# Save Model\n",
    "# history.save(\"ResNet_model.h5\")"
   ]
  },
  {
   "cell_type": "code",
   "execution_count": 10,
   "metadata": {},
   "outputs": [
    {
     "name": "stdout",
     "output_type": "stream",
     "text": [
      "10/10 [==============================] - 50s 5s/step - loss: 0.3987 - accuracy: 0.8554\n",
      "\n",
      " Test Accuracy: 0.855411946773529\n"
     ]
    }
   ],
   "source": [
    "test_loss, test_acc= model.evaluate(test_generator)\n",
    "print(\"\\n Test Accuracy:\", test_acc)"
   ]
  },
  {
   "cell_type": "markdown",
   "metadata": {},
   "source": [
    "## Transfer Learning Model- Resnet\n",
    "### At 100 epochs \n"
   ]
  },
  {
   "cell_type": "code",
   "execution_count": 3,
   "metadata": {},
   "outputs": [
    {
     "name": "stdout",
     "output_type": "stream",
     "text": [
      "Found 2893 images belonging to 3 classes.\n",
      "Found 1238 images belonging to 3 classes.\n"
     ]
    }
   ],
   "source": [
    "img_width, img_height=(224,224)\n",
    "batch_size=128\n",
    "\n",
    "data_dir = \"Database/\"\n",
    "\n",
    "# Rescale images \n",
    "datagen= ImageDataGenerator(rescale=1/255,validation_split=.3,rotation_range=20,\n",
    "                           shear_range=.2,width_shift_range=0.1,height_shift_range=0.1,zoom_range=0.2,\n",
    "                           preprocessing_function=preprocess_input)\n",
    "\n",
    "# Flow training images in batches of 128 using train_data \n",
    "train_generator= datagen.flow_from_directory(\n",
    "                data_dir,\n",
    "                target_size=(img_width,img_height),\n",
    "                batch_size=batch_size,\n",
    "                subset=\"training\",\n",
    "                class_mode=\"categorical\", \n",
    "                classes= [\"COVID19\", \"NORMAL\",\"Viral_Pneumonia\"],\n",
    "                shuffle=True, seed=30)\n",
    "\n",
    "\n",
    "datagen2=ImageDataGenerator(rescale=1/255,validation_split=.3,\n",
    "                           preprocessing_function=preprocess_input)\n",
    "\n",
    "test_generator=datagen2.flow_from_directory(\n",
    "                data_dir,\n",
    "                target_size=(img_width,img_height),\n",
    "                batch_size=batch_size,\n",
    "                classes= [\"COVID19\", \"NORMAL\",\"Viral_Pneumonia\"],\n",
    "                class_mode=\"categorical\", subset=\"validation\", shuffle=True, seed=30)"
   ]
  },
  {
   "cell_type": "code",
   "execution_count": 4,
   "metadata": {},
   "outputs": [],
   "source": [
    "classifier = ResNet50(weights='imagenet', include_top=False, input_shape=(224,224,3))\n",
    "\n",
    "# x=classifier.output\n",
    "# x=AveragePooling2D()(x)\n",
    "# x=Dense(64, activation=\"relu\")(x)\n",
    "# predictions=Dense(3, activation=\"softmax\")(x)\n",
    "# model=Model(inputs=classifier.input,outputs=predictions)\n",
    "\n",
    "x=Flatten()(classifier.output)\n",
    "x=Dense(3, activation=\"softmax\")(x)\n",
    "model=Model(inputs=classifier.input,outputs=x)\n",
    "\n",
    "\n",
    "for layer in classifier.layers:\n",
    "    layer.trainable=False\n",
    "    \n",
    "model.compile(loss=\"categorical_crossentropy\", optimizer=\"adam\",metrics=[\"accuracy\"])"
   ]
  },
  {
   "cell_type": "code",
   "execution_count": 5,
   "metadata": {},
   "outputs": [
    {
     "name": "stdout",
     "output_type": "stream",
     "text": [
      "Epoch 1/100\n",
      "23/23 [==============================] - 267s 12s/step - loss: 4.6635 - accuracy: 0.3443 - val_loss: 1.1251 - val_accuracy: 0.5872\n",
      "Epoch 2/100\n",
      "23/23 [==============================] - 184s 8s/step - loss: 1.2833 - accuracy: 0.4957 - val_loss: 1.0477 - val_accuracy: 0.5307\n",
      "Epoch 3/100\n",
      "23/23 [==============================] - 184s 8s/step - loss: 0.7644 - accuracy: 0.6664 - val_loss: 0.5884 - val_accuracy: 0.7787\n",
      "Epoch 4/100\n",
      "23/23 [==============================] - 187s 8s/step - loss: 0.6952 - accuracy: 0.7055 - val_loss: 0.5474 - val_accuracy: 0.7884\n",
      "Epoch 5/100\n",
      "23/23 [==============================] - 185s 8s/step - loss: 0.7026 - accuracy: 0.6758 - val_loss: 0.6911 - val_accuracy: 0.6704\n",
      "Epoch 6/100\n",
      "23/23 [==============================] - 186s 8s/step - loss: 0.6199 - accuracy: 0.7338 - val_loss: 0.4959 - val_accuracy: 0.8255\n",
      "Epoch 7/100\n",
      "23/23 [==============================] - 186s 8s/step - loss: 0.5828 - accuracy: 0.7750 - val_loss: 0.5519 - val_accuracy: 0.7690\n",
      "Epoch 8/100\n",
      "23/23 [==============================] - 185s 8s/step - loss: 0.5586 - accuracy: 0.7916 - val_loss: 0.5228 - val_accuracy: 0.7617\n",
      "Epoch 9/100\n",
      "23/23 [==============================] - 186s 8s/step - loss: 0.6406 - accuracy: 0.7193 - val_loss: 0.6943 - val_accuracy: 0.7124\n",
      "Epoch 10/100\n",
      "23/23 [==============================] - 185s 8s/step - loss: 0.5816 - accuracy: 0.7618 - val_loss: 0.4389 - val_accuracy: 0.8086\n",
      "Epoch 11/100\n",
      "23/23 [==============================] - 185s 8s/step - loss: 0.5135 - accuracy: 0.7985 - val_loss: 0.4304 - val_accuracy: 0.8401\n",
      "Epoch 12/100\n",
      "23/23 [==============================] - 185s 8s/step - loss: 0.5723 - accuracy: 0.7580 - val_loss: 0.4089 - val_accuracy: 0.8635\n",
      "Epoch 13/100\n",
      "23/23 [==============================] - 186s 8s/step - loss: 0.5239 - accuracy: 0.7850 - val_loss: 0.4244 - val_accuracy: 0.8562\n",
      "Epoch 14/100\n",
      "23/23 [==============================] - 186s 8s/step - loss: 0.5626 - accuracy: 0.7567 - val_loss: 0.3936 - val_accuracy: 0.8700\n",
      "Epoch 15/100\n",
      "23/23 [==============================] - 186s 8s/step - loss: 0.4871 - accuracy: 0.8120 - val_loss: 0.5466 - val_accuracy: 0.7730\n",
      "Epoch 16/100\n",
      "23/23 [==============================] - 186s 8s/step - loss: 0.5129 - accuracy: 0.7909 - val_loss: 0.3817 - val_accuracy: 0.8546\n",
      "Epoch 17/100\n",
      "23/23 [==============================] - 186s 8s/step - loss: 0.4587 - accuracy: 0.8279 - val_loss: 0.6401 - val_accuracy: 0.7262\n",
      "Epoch 18/100\n",
      "23/23 [==============================] - 188s 8s/step - loss: 0.5812 - accuracy: 0.7446 - val_loss: 0.4482 - val_accuracy: 0.8336\n",
      "Epoch 19/100\n",
      "23/23 [==============================] - 189s 8s/step - loss: 0.4788 - accuracy: 0.8106 - val_loss: 0.3878 - val_accuracy: 0.8716\n",
      "Epoch 20/100\n",
      "23/23 [==============================] - 187s 8s/step - loss: 0.4144 - accuracy: 0.8507 - val_loss: 0.5336 - val_accuracy: 0.7868\n",
      "Epoch 21/100\n",
      "23/23 [==============================] - 187s 8s/step - loss: 0.5097 - accuracy: 0.7912 - val_loss: 0.4734 - val_accuracy: 0.8094\n",
      "Epoch 22/100\n",
      "23/23 [==============================] - 187s 8s/step - loss: 0.4939 - accuracy: 0.7940 - val_loss: 0.3496 - val_accuracy: 0.8651\n",
      "Epoch 23/100\n",
      "23/23 [==============================] - 187s 8s/step - loss: 0.4011 - accuracy: 0.8521 - val_loss: 0.4030 - val_accuracy: 0.8465\n",
      "Epoch 24/100\n",
      "23/23 [==============================] - 187s 8s/step - loss: 0.4325 - accuracy: 0.8320 - val_loss: 0.4108 - val_accuracy: 0.8489\n",
      "Epoch 25/100\n",
      "23/23 [==============================] - 187s 8s/step - loss: 0.4245 - accuracy: 0.8351 - val_loss: 0.3489 - val_accuracy: 0.8805\n",
      "Epoch 26/100\n",
      "23/23 [==============================] - 187s 8s/step - loss: 0.4333 - accuracy: 0.8417 - val_loss: 0.3725 - val_accuracy: 0.8700\n",
      "Epoch 27/100\n",
      "23/23 [==============================] - 187s 8s/step - loss: 0.4999 - accuracy: 0.7912 - val_loss: 0.4271 - val_accuracy: 0.8296\n",
      "Epoch 28/100\n",
      "23/23 [==============================] - 187s 8s/step - loss: 0.4523 - accuracy: 0.8279 - val_loss: 0.3328 - val_accuracy: 0.8813\n",
      "Epoch 29/100\n",
      "23/23 [==============================] - 187s 8s/step - loss: 0.4674 - accuracy: 0.8168 - val_loss: 0.5762 - val_accuracy: 0.7835\n",
      "Epoch 30/100\n",
      "23/23 [==============================] - 189s 8s/step - loss: 0.3934 - accuracy: 0.8552 - val_loss: 0.4722 - val_accuracy: 0.8255\n",
      "Epoch 31/100\n",
      "23/23 [==============================] - 187s 8s/step - loss: 0.4494 - accuracy: 0.8209 - val_loss: 1.1091 - val_accuracy: 0.6438\n",
      "Epoch 32/100\n",
      "23/23 [==============================] - 188s 8s/step - loss: 0.4567 - accuracy: 0.8199 - val_loss: 0.3586 - val_accuracy: 0.8675\n",
      "Epoch 33/100\n",
      "23/23 [==============================] - 187s 8s/step - loss: 0.4203 - accuracy: 0.8351 - val_loss: 0.4932 - val_accuracy: 0.8061\n",
      "Epoch 34/100\n",
      "23/23 [==============================] - 186s 8s/step - loss: 0.5127 - accuracy: 0.7923 - val_loss: 0.8261 - val_accuracy: 0.7084\n",
      "Epoch 35/100\n",
      "23/23 [==============================] - 186s 8s/step - loss: 0.4501 - accuracy: 0.8268 - val_loss: 0.4690 - val_accuracy: 0.8061\n",
      "Epoch 36/100\n",
      "23/23 [==============================] - 187s 8s/step - loss: 0.3770 - accuracy: 0.8538 - val_loss: 0.3106 - val_accuracy: 0.8813\n",
      "Epoch 37/100\n",
      "23/23 [==============================] - 188s 8s/step - loss: 0.4177 - accuracy: 0.8403 - val_loss: 0.3841 - val_accuracy: 0.8595\n",
      "Epoch 38/100\n",
      "23/23 [==============================] - 187s 8s/step - loss: 0.3870 - accuracy: 0.8503 - val_loss: 0.3440 - val_accuracy: 0.8651\n",
      "Epoch 39/100\n",
      "23/23 [==============================] - 187s 8s/step - loss: 0.3882 - accuracy: 0.8469 - val_loss: 0.5077 - val_accuracy: 0.8126\n",
      "Epoch 40/100\n",
      "23/23 [==============================] - 187s 8s/step - loss: 0.3840 - accuracy: 0.8531 - val_loss: 0.3437 - val_accuracy: 0.8675\n",
      "Epoch 41/100\n",
      "23/23 [==============================] - 187s 8s/step - loss: 0.3315 - accuracy: 0.8801 - val_loss: 0.3349 - val_accuracy: 0.8700\n",
      "Epoch 42/100\n",
      "23/23 [==============================] - 187s 8s/step - loss: 0.4658 - accuracy: 0.8168 - val_loss: 0.7229 - val_accuracy: 0.6624\n",
      "Epoch 43/100\n",
      "23/23 [==============================] - 187s 8s/step - loss: 0.5812 - accuracy: 0.7729 - val_loss: 0.3553 - val_accuracy: 0.8667\n",
      "Epoch 44/100\n",
      "23/23 [==============================] - 187s 8s/step - loss: 0.4178 - accuracy: 0.8368 - val_loss: 0.3865 - val_accuracy: 0.8578\n",
      "Epoch 45/100\n",
      "23/23 [==============================] - 186s 8s/step - loss: 0.3515 - accuracy: 0.8610 - val_loss: 0.3247 - val_accuracy: 0.8772\n",
      "Epoch 46/100\n",
      "23/23 [==============================] - 187s 8s/step - loss: 0.3273 - accuracy: 0.8825 - val_loss: 0.3914 - val_accuracy: 0.8570\n",
      "Epoch 47/100\n",
      "23/23 [==============================] - 187s 8s/step - loss: 0.3513 - accuracy: 0.8680 - val_loss: 0.3153 - val_accuracy: 0.8756\n",
      "Epoch 48/100\n",
      "23/23 [==============================] - 188s 8s/step - loss: 0.4040 - accuracy: 0.8445 - val_loss: 0.3564 - val_accuracy: 0.8740\n",
      "Epoch 49/100\n",
      "23/23 [==============================] - 187s 8s/step - loss: 0.3356 - accuracy: 0.8718 - val_loss: 0.3636 - val_accuracy: 0.8619\n",
      "Epoch 50/100\n",
      "23/23 [==============================] - 187s 8s/step - loss: 0.3752 - accuracy: 0.8531 - val_loss: 0.3447 - val_accuracy: 0.8691\n",
      "Epoch 51/100\n",
      "23/23 [==============================] - 187s 8s/step - loss: 0.3657 - accuracy: 0.8714 - val_loss: 0.3298 - val_accuracy: 0.8740\n",
      "Epoch 52/100\n",
      "23/23 [==============================] - 187s 8s/step - loss: 0.3999 - accuracy: 0.8534 - val_loss: 0.5899 - val_accuracy: 0.7819\n",
      "Epoch 53/100\n",
      "23/23 [==============================] - 188s 8s/step - loss: 0.4362 - accuracy: 0.8213 - val_loss: 0.5949 - val_accuracy: 0.7859\n",
      "Epoch 54/100\n",
      "23/23 [==============================] - 187s 8s/step - loss: 0.4407 - accuracy: 0.8289 - val_loss: 0.3744 - val_accuracy: 0.8691\n",
      "Epoch 55/100\n",
      "23/23 [==============================] - 187s 8s/step - loss: 0.3691 - accuracy: 0.8597 - val_loss: 0.3043 - val_accuracy: 0.8829\n",
      "Epoch 56/100\n",
      "23/23 [==============================] - 190s 8s/step - loss: 0.3717 - accuracy: 0.8531 - val_loss: 0.3778 - val_accuracy: 0.8683\n",
      "Epoch 57/100\n",
      "23/23 [==============================] - 187s 8s/step - loss: 0.3808 - accuracy: 0.8514 - val_loss: 0.3336 - val_accuracy: 0.8869\n",
      "Epoch 58/100\n"
     ]
    },
    {
     "name": "stdout",
     "output_type": "stream",
     "text": [
      "23/23 [==============================] - 187s 8s/step - loss: 0.3413 - accuracy: 0.8676 - val_loss: 0.3770 - val_accuracy: 0.8603\n",
      "Epoch 59/100\n",
      "23/23 [==============================] - 187s 8s/step - loss: 0.3576 - accuracy: 0.8614 - val_loss: 0.3797 - val_accuracy: 0.8562\n",
      "Epoch 60/100\n",
      "23/23 [==============================] - 187s 8s/step - loss: 0.3367 - accuracy: 0.8728 - val_loss: 0.2865 - val_accuracy: 0.8918\n",
      "Epoch 61/100\n",
      "23/23 [==============================] - 187s 8s/step - loss: 0.3711 - accuracy: 0.8524 - val_loss: 0.4902 - val_accuracy: 0.8069\n",
      "Epoch 62/100\n",
      "23/23 [==============================] - 187s 8s/step - loss: 0.3283 - accuracy: 0.8787 - val_loss: 0.3185 - val_accuracy: 0.8918\n",
      "Epoch 63/100\n",
      "23/23 [==============================] - 187s 8s/step - loss: 0.3519 - accuracy: 0.8604 - val_loss: 0.5491 - val_accuracy: 0.8102\n",
      "Epoch 64/100\n",
      "23/23 [==============================] - 187s 8s/step - loss: 0.3828 - accuracy: 0.8576 - val_loss: 0.5560 - val_accuracy: 0.8102\n",
      "Epoch 65/100\n",
      "23/23 [==============================] - 188s 8s/step - loss: 0.3454 - accuracy: 0.8683 - val_loss: 0.4353 - val_accuracy: 0.8457\n",
      "Epoch 66/100\n",
      "23/23 [==============================] - 187s 8s/step - loss: 0.3989 - accuracy: 0.8417 - val_loss: 0.6054 - val_accuracy: 0.7884\n",
      "Epoch 67/100\n",
      "23/23 [==============================] - 188s 8s/step - loss: 0.4080 - accuracy: 0.8445 - val_loss: 0.3220 - val_accuracy: 0.8877\n",
      "Epoch 68/100\n",
      "23/23 [==============================] - 187s 8s/step - loss: 0.3258 - accuracy: 0.8731 - val_loss: 0.4161 - val_accuracy: 0.8449\n",
      "Epoch 69/100\n",
      "23/23 [==============================] - 188s 8s/step - loss: 0.3263 - accuracy: 0.8814 - val_loss: 0.3007 - val_accuracy: 0.8910\n",
      "Epoch 70/100\n",
      "23/23 [==============================] - 187s 8s/step - loss: 0.3198 - accuracy: 0.8745 - val_loss: 0.3175 - val_accuracy: 0.8829\n",
      "Epoch 71/100\n",
      "23/23 [==============================] - 187s 8s/step - loss: 0.3265 - accuracy: 0.8804 - val_loss: 0.3010 - val_accuracy: 0.8837\n",
      "Epoch 72/100\n",
      "23/23 [==============================] - 190s 8s/step - loss: 0.3514 - accuracy: 0.8631 - val_loss: 0.4382 - val_accuracy: 0.8433\n",
      "Epoch 73/100\n",
      "23/23 [==============================] - 187s 8s/step - loss: 0.3463 - accuracy: 0.8704 - val_loss: 0.3134 - val_accuracy: 0.8861\n",
      "Epoch 74/100\n",
      "23/23 [==============================] - 188s 8s/step - loss: 0.3802 - accuracy: 0.8507 - val_loss: 0.3117 - val_accuracy: 0.8837\n",
      "Epoch 75/100\n",
      "23/23 [==============================] - 190s 8s/step - loss: 0.3480 - accuracy: 0.8700 - val_loss: 0.3201 - val_accuracy: 0.8829\n",
      "Epoch 76/100\n",
      "23/23 [==============================] - 187s 8s/step - loss: 0.3643 - accuracy: 0.8666 - val_loss: 0.4360 - val_accuracy: 0.8279\n",
      "Epoch 77/100\n",
      "23/23 [==============================] - 188s 8s/step - loss: 0.3630 - accuracy: 0.8662 - val_loss: 0.3325 - val_accuracy: 0.8821\n",
      "Epoch 78/100\n",
      "23/23 [==============================] - 187s 8s/step - loss: 0.3237 - accuracy: 0.8839 - val_loss: 0.3135 - val_accuracy: 0.8837\n",
      "Epoch 79/100\n",
      "23/23 [==============================] - 188s 8s/step - loss: 0.3071 - accuracy: 0.8849 - val_loss: 0.3899 - val_accuracy: 0.8578\n",
      "Epoch 80/100\n",
      "23/23 [==============================] - 188s 8s/step - loss: 0.3415 - accuracy: 0.8673 - val_loss: 0.3789 - val_accuracy: 0.8603\n",
      "Epoch 81/100\n",
      "23/23 [==============================] - 188s 8s/step - loss: 0.3111 - accuracy: 0.8832 - val_loss: 0.3542 - val_accuracy: 0.8772\n",
      "Epoch 82/100\n",
      "23/23 [==============================] - 188s 8s/step - loss: 0.3220 - accuracy: 0.8825 - val_loss: 0.3659 - val_accuracy: 0.8659\n",
      "Epoch 83/100\n",
      "23/23 [==============================] - 188s 8s/step - loss: 0.3323 - accuracy: 0.8693 - val_loss: 0.3923 - val_accuracy: 0.8530\n",
      "Epoch 84/100\n",
      "23/23 [==============================] - 187s 8s/step - loss: 0.3288 - accuracy: 0.8742 - val_loss: 0.2987 - val_accuracy: 0.8893\n",
      "Epoch 85/100\n",
      "23/23 [==============================] - 188s 8s/step - loss: 0.3446 - accuracy: 0.8655 - val_loss: 0.4328 - val_accuracy: 0.8409\n",
      "Epoch 86/100\n",
      "23/23 [==============================] - 188s 8s/step - loss: 0.3882 - accuracy: 0.8451 - val_loss: 0.4483 - val_accuracy: 0.8498\n",
      "Epoch 87/100\n",
      "23/23 [==============================] - 187s 8s/step - loss: 0.4454 - accuracy: 0.8306 - val_loss: 0.4104 - val_accuracy: 0.8570\n",
      "Epoch 88/100\n",
      "23/23 [==============================] - 188s 8s/step - loss: 0.3687 - accuracy: 0.8624 - val_loss: 0.3459 - val_accuracy: 0.8764\n",
      "Epoch 89/100\n",
      "23/23 [==============================] - 188s 8s/step - loss: 0.3734 - accuracy: 0.8621 - val_loss: 0.4404 - val_accuracy: 0.8360\n",
      "Epoch 90/100\n",
      "23/23 [==============================] - 212s 9s/step - loss: 0.3594 - accuracy: 0.8659 - val_loss: 0.3369 - val_accuracy: 0.8958\n",
      "Epoch 91/100\n",
      "23/23 [==============================] - 189s 8s/step - loss: 0.3279 - accuracy: 0.8759 - val_loss: 0.3829 - val_accuracy: 0.8748\n",
      "Epoch 92/100\n",
      "23/23 [==============================] - 192s 8s/step - loss: 0.3469 - accuracy: 0.8638 - val_loss: 0.4245 - val_accuracy: 0.8473\n",
      "Epoch 93/100\n",
      "23/23 [==============================] - 192s 8s/step - loss: 0.3325 - accuracy: 0.8704 - val_loss: 0.3458 - val_accuracy: 0.8780\n",
      "Epoch 94/100\n",
      "23/23 [==============================] - 204s 9s/step - loss: 0.3457 - accuracy: 0.8752 - val_loss: 0.3270 - val_accuracy: 0.8772\n",
      "Epoch 95/100\n",
      "23/23 [==============================] - 224s 10s/step - loss: 0.3409 - accuracy: 0.8690 - val_loss: 0.3229 - val_accuracy: 0.8837\n",
      "Epoch 96/100\n",
      "23/23 [==============================] - 206s 9s/step - loss: 0.3187 - accuracy: 0.8811 - val_loss: 0.5222 - val_accuracy: 0.8166\n",
      "Epoch 97/100\n",
      "23/23 [==============================] - 194s 8s/step - loss: 0.4711 - accuracy: 0.8189 - val_loss: 0.5511 - val_accuracy: 0.8158\n",
      "Epoch 98/100\n",
      "23/23 [==============================] - 186s 8s/step - loss: 0.3051 - accuracy: 0.8894 - val_loss: 0.3914 - val_accuracy: 0.8619\n",
      "Epoch 99/100\n",
      "23/23 [==============================] - 188s 8s/step - loss: 0.2918 - accuracy: 0.8897 - val_loss: 0.3160 - val_accuracy: 0.8788\n",
      "Epoch 100/100\n",
      "23/23 [==============================] - 192s 8s/step - loss: 0.3309 - accuracy: 0.8718 - val_loss: 0.3371 - val_accuracy: 0.8740\n"
     ]
    }
   ],
   "source": [
    "total_sample= train_generator.n\n",
    "batch_size=128\n",
    "\n",
    "\n",
    "history= model.fit(train_generator,epochs=100, validation_data=test_generator)"
   ]
  },
  {
   "cell_type": "code",
   "execution_count": 10,
   "metadata": {},
   "outputs": [],
   "source": [
    "# Save Model\n",
    "model.save(\"ResNet_model.h5\")"
   ]
  },
  {
   "cell_type": "code",
   "execution_count": 8,
   "metadata": {},
   "outputs": [
    {
     "name": "stdout",
     "output_type": "stream",
     "text": [
      "23/23 [==============================] - 138s 6s/step - loss: 0.3031 - accuracy: 0.8925\n",
      "\n",
      " Train Accuracy: 0.8924991488456726\n",
      "\n",
      " Train Loss: 0.30308762192726135\n"
     ]
    }
   ],
   "source": [
    "train_loss, train_acc= model.evaluate(train_generator)\n",
    "print(\"\\n Train Accuracy:\", train_acc)\n",
    "print(\"\\n Train Loss:\", train_loss)"
   ]
  },
  {
   "cell_type": "code",
   "execution_count": 9,
   "metadata": {},
   "outputs": [
    {
     "name": "stdout",
     "output_type": "stream",
     "text": [
      "10/10 [==============================] - 49s 5s/step - loss: 0.3371 - accuracy: 0.8740\n",
      "\n",
      " Test Accuracy: 0.8739902973175049\n",
      "\n",
      " Test Loss: 0.3370720148086548\n"
     ]
    }
   ],
   "source": [
    "test_loss, test_acc= model.evaluate(test_generator)\n",
    "print(\"\\n Test Accuracy:\", test_acc)\n",
    "print(\"\\n Test Loss:\", test_loss)"
   ]
  },
  {
   "cell_type": "code",
   "execution_count": 11,
   "metadata": {},
   "outputs": [
    {
     "data": {
      "text/plain": [
       "['loss', 'accuracy']"
      ]
     },
     "execution_count": 11,
     "metadata": {},
     "output_type": "execute_result"
    }
   ],
   "source": [
    "model.metrics_names"
   ]
  },
  {
   "cell_type": "code",
   "execution_count": 12,
   "metadata": {},
   "outputs": [
    {
     "data": {
      "image/png": "[encoded data removed]",
      "text/plain": [
       "<Figure size 432x288 with 1 Axes>"
      ]
     },
     "metadata": {
      "needs_background": "light"
     },
     "output_type": "display_data"
    }
   ],
   "source": [
    "# PLOT ACCURACY\n",
    "plt.plot(history.history['accuracy'])\n",
    "plt.plot(history.history['val_accuracy'])\n",
    "plt.title('ResNet50 Accuracy per Epoch')\n",
    "plt.ylabel('accuracy')\n",
    "plt.xlabel('epoch')\n",
    "plt.legend(['train', 'test'], loc='lower center')\n",
    "plt.show()"
   ]
  },
  {
   "cell_type": "code",
   "execution_count": 13,
   "metadata": {},
   "outputs": [
    {
     "data": {
      "image/png": "[encoded data removed]",
      "text/plain": [
       "<Figure size 432x288 with 1 Axes>"
      ]
     },
     "metadata": {
      "needs_background": "light"
     },
     "output_type": "display_data"
    }
   ],
   "source": [
    "# PLOT LOSS\n",
    "plt.plot(history.history['loss'])\n",
    "plt.plot(history.history['val_loss'])\n",
    "plt.title('ResNet50 loss per Epoch')\n",
    "plt.ylabel('loss')\n",
    "plt.xlabel('epoch')\n",
    "plt.legend(['train', 'test'], loc='lower center')\n",
    "plt.show()"
   ]
  },
  {
   "cell_type": "code",
   "execution_count": 15,
   "metadata": {},
   "outputs": [],
   "source": [
    "# Save history of model into csv\n",
    "hist_df5 = pd.DataFrame(history.history) \n",
    "\n",
    "# or save to csv: \n",
    "hist_csv_file = 'resnet_model.csv'\n",
    "with open(hist_csv_file, mode='w') as f:\n",
    "    hist_df5.to_csv(f)"
   ]
  },
  {
   "cell_type": "code",
   "execution_count": null,
   "metadata": {},
   "outputs": [],
   "source": []
  }
 ],
 "metadata": {
  "kernelspec": {
   "display_name": "mlenv",
   "language": "python",
   "name": "mlenv"
  },
  "language_info": {
   "codemirror_mode": {
    "name": "ipython",
    "version": 3
   },
   "file_extension": ".py",
   "mimetype": "text/x-python",
   "name": "python",
   "nbconvert_exporter": "python",
   "pygments_lexer": "ipython3",
   "version": "3.7.7"
  }
 },
 "nbformat": 4,
 "nbformat_minor": 4
}
