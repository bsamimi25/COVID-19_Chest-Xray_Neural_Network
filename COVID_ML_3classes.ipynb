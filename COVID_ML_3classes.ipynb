{
 "cells": [
  {
   "cell_type": "code",
   "execution_count": 3,
   "metadata": {},
   "outputs": [],
   "source": [
    "from tensorflow.keras.preprocessing.image import ImageDataGenerator\n",
    "from tensorflow.keras.losses import SparseCategoricalCrossentropy\n",
    "from tensorflow.keras.applications import VGG16\n",
    "from keras.applications.vgg16 import preprocess_input\n",
    "from tensorflow.keras.layers import Activation, Dense, Dropout, Flatten, BatchNormalization, Conv2D, MaxPooling2D, Lambda, Input, AveragePooling2D\n",
    "from tensorflow.keras.models import Sequential, Model\n",
    "from tensorflow.keras.layers import Input\n",
    "from tensorflow.keras import layers\n",
    "from tensorflow.keras.utils import to_categorical\n",
    "from sklearn.preprocessing import LabelBinarizer\n",
    "from sklearn.model_selection import train_test_split\n",
    "from tensorflow.keras.preprocessing import image\n",
    "from tensorflow.keras.optimizers import Adam\n",
    "from tensorflow.keras.optimizers import SGD\n",
    "from tensorflow.keras.preprocessing import image\n",
    "from tensorflow.keras import backend as K\n",
    "import tensorflow as tf \n",
    "import matplotlib.pyplot as plt \n",
    "import numpy as np \n",
    "import pandas as pd\n",
    "import random\n",
    "#import cv2\n",
    "import os"
   ]
  },
  {
   "cell_type": "code",
   "execution_count": 3,
   "metadata": {},
   "outputs": [
    {
     "name": "stdout",
     "output_type": "stream",
     "text": [
      "['.DS_Store', 'COVID19', 'NORMAL', 'Viral_Pneumonia']\n"
     ]
    }
   ],
   "source": [
    "# Check filenames \n",
    "image_names=list(os.listdir(\"Database\"))\n",
    "image_names.sort()\n",
    "print(image_names)"
   ]
  },
  {
   "cell_type": "code",
   "execution_count": 4,
   "metadata": {},
   "outputs": [
    {
     "name": "stdout",
     "output_type": "stream",
     "text": [
      "total Covid images: 1327\n",
      "total Normal images: 1341\n",
      "total Viral_Pneumonia: 1463\n"
     ]
    }
   ],
   "source": [
    "covid_dir=os.path.join(\"Database/COVID19\")\n",
    "norm_dir=os.path.join(\"Database/NORMAL\")\n",
    "pneu_dir=os.path.join(\"Database/Viral_Pneumonia\")\n",
    "\n",
    "\n",
    "print('total Covid images:', len(os.listdir(covid_dir)))\n",
    "print('total Normal images:', len(os.listdir(norm_dir)))\n",
    "print('total Viral_Pneumonia:', len(os.listdir(pneu_dir)))\n"
   ]
  },
  {
   "cell_type": "code",
   "execution_count": 5,
   "metadata": {},
   "outputs": [
    {
     "data": {
      "text/html": [
       "<div>\n",
       "<style scoped>\n",
       "    .dataframe tbody tr th:only-of-type {\n",
       "        vertical-align: middle;\n",
       "    }\n",
       "\n",
       "    .dataframe tbody tr th {\n",
       "        vertical-align: top;\n",
       "    }\n",
       "\n",
       "    .dataframe thead th {\n",
       "        text-align: right;\n",
       "    }\n",
       "</style>\n",
       "<table border=\"1\" class=\"dataframe\">\n",
       "  <thead>\n",
       "    <tr style=\"text-align: right;\">\n",
       "      <th></th>\n",
       "      <th>0</th>\n",
       "      <th>condition</th>\n",
       "    </tr>\n",
       "  </thead>\n",
       "  <tbody>\n",
       "    <tr>\n",
       "      <th>0</th>\n",
       "      <td>COVID-19 (979).png</td>\n",
       "      <td>Covid19</td>\n",
       "    </tr>\n",
       "    <tr>\n",
       "      <th>1</th>\n",
       "      <td>COVID-19 (580).png</td>\n",
       "      <td>Covid19</td>\n",
       "    </tr>\n",
       "    <tr>\n",
       "      <th>2</th>\n",
       "      <td>COVID-19 (996).png</td>\n",
       "      <td>Covid19</td>\n",
       "    </tr>\n",
       "    <tr>\n",
       "      <th>3</th>\n",
       "      <td>COVID-19 (646).png</td>\n",
       "      <td>Covid19</td>\n",
       "    </tr>\n",
       "    <tr>\n",
       "      <th>4</th>\n",
       "      <td>COVID-19 (216).png</td>\n",
       "      <td>Covid19</td>\n",
       "    </tr>\n",
       "  </tbody>\n",
       "</table>\n",
       "</div>"
      ],
      "text/plain": [
       "                    0 condition\n",
       "0  COVID-19 (979).png   Covid19\n",
       "1  COVID-19 (580).png   Covid19\n",
       "2  COVID-19 (996).png   Covid19\n",
       "3  COVID-19 (646).png   Covid19\n",
       "4  COVID-19 (216).png   Covid19"
      ]
     },
     "execution_count": 5,
     "metadata": {},
     "output_type": "execute_result"
    }
   ],
   "source": [
    "df =pd.DataFrame(os.listdir(covid_dir))\n",
    "df[\"condition\"]= \"Covid19\"\n",
    "df.head()"
   ]
  },
  {
   "cell_type": "code",
   "execution_count": 6,
   "metadata": {},
   "outputs": [
    {
     "data": {
      "text/plain": [
       "Viral_Pneumonia    1463\n",
       "NORMAL             1341\n",
       "Covid19            1327\n",
       "COVID19            1327\n",
       "Name: condition, dtype: int64"
      ]
     },
     "execution_count": 6,
     "metadata": {},
     "output_type": "execute_result"
    }
   ],
   "source": [
    "df =pd.DataFrame.from_records({\"file_name\":os.listdir(covid_dir),\"condition\": \"Covid19\"})\n",
    "\n",
    "for f in image_names[1:]:\n",
    "    folder_path=\"Database/\" + f\n",
    "    temp_df= pd.DataFrame.from_records({\"file_name\":os.listdir(folder_path),\"condition\": f })\n",
    "    df=df.append(temp_df)\n",
    "    \n",
    "df[\"condition\"].value_counts()"
   ]
  },
  {
   "cell_type": "code",
   "execution_count": 7,
   "metadata": {},
   "outputs": [
    {
     "name": "stdout",
     "output_type": "stream",
     "text": [
      "Found 2893 images belonging to 3 classes.\n",
      "Found 1238 images belonging to 3 classes.\n"
     ]
    }
   ],
   "source": [
    "img_width, img_height=200,200\n",
    "batch_size=128\n",
    "\n",
    "data_dir = \"Database/\"\n",
    "\n",
    "# Rescale images \n",
    "datagen= ImageDataGenerator(rescale=1/255,validation_split=.3,rotation_range=20,\n",
    "                           shear_range=.2,width_shift_range=0.1,height_shift_range=0.1,zoom_range=0.2)\n",
    "\n",
    "# Flow training images in batches of 128 using train_data \n",
    "train_generator= datagen.flow_from_directory(\n",
    "                data_dir,\n",
    "                target_size=(img_width,img_height),\n",
    "                batch_size=batch_size,\n",
    "                subset=\"training\",\n",
    "                class_mode=\"categorical\", \n",
    "                classes= [\"COVID19\", \"NORMAL\",\"Viral_Pneumonia\"],\n",
    "                shuffle=True, seed=30)\n",
    "\n",
    "\n",
    "datagen2=ImageDataGenerator(rescale=1/255,validation_split=.3)\n",
    "\n",
    "test_generator=datagen2.flow_from_directory(\n",
    "                data_dir,\n",
    "                target_size=(img_width,img_height),\n",
    "                batch_size=batch_size,\n",
    "                classes= [\"COVID19\", \"NORMAL\",\"Viral_Pneumonia\"],\n",
    "                class_mode=\"categorical\", subset=\"validation\", shuffle=True, seed=30)\n",
    "\n",
    "# train_ds = tf.keras.preprocessing.image_dataset_from_directory(\n",
    "#   data_dir,\n",
    "#   validation_split=0.2,\n",
    "#   subset=\"training\",\n",
    "#   seed=123,\n",
    "#   image_size=(img_height, img_width),\n",
    "#   batch_size=batch_size)\n",
    "\n",
    "# # Flow test images in \n",
    "\n",
    "\n",
    "# val_ds = tf.keras.preprocessing.image_dataset_from_directory(\n",
    "#   data_dir,\n",
    "#   validation_split=0.2,\n",
    "#   subset=\"validation\",\n",
    "#   seed=123,\n",
    "#   image_size=(img_height, img_width),\n",
    "#   batch_size=batch_size)"
   ]
  },
  {
   "cell_type": "markdown",
   "metadata": {},
   "source": [
    "## Model 1\n",
    "### Using new dataset and with 3 categories"
   ]
  },
  {
   "cell_type": "code",
   "execution_count": 8,
   "metadata": {},
   "outputs": [],
   "source": [
    "# CNN MODEL- conv-batch-maxpool-dropout\n",
    "\n",
    "classifier=Sequential()\n",
    "classifier.add(Conv2D(32, kernel_size=3, activation=\"relu\", input_shape=(200,200,3)))\n",
    "classifier.add(BatchNormalization())\n",
    "classifier.add(MaxPooling2D(strides=(2,2)))\n",
    "classifier.add(Dropout(.3))\n",
    "\n",
    "classifier.add(Conv2D(32, kernel_size=3, activation=\"relu\"))\n",
    "classifier.add(BatchNormalization())\n",
    "classifier.add(MaxPooling2D(strides=(2,2)))\n",
    "classifier.add(Dropout(.5))\n",
    "\n",
    "classifier.add(Conv2D(64, kernel_size=3, activation=\"relu\"))\n",
    "classifier.add(BatchNormalization())\n",
    "classifier.add(MaxPooling2D(strides=(2,2)))\n",
    "classifier.add(Dropout(.4))\n",
    "\n",
    "classifier.add(Conv2D(64, kernel_size=3, activation=\"relu\"))\n",
    "classifier.add(BatchNormalization())\n",
    "classifier.add(MaxPooling2D(strides=(2,2)))\n",
    "classifier.add(Dropout(.3))\n",
    "\n",
    "classifier.add(Flatten())\n",
    "classifier.add(Dense(512,activation=\"relu\"))\n",
    "classifier.add(Dense(128,activation=\"relu\"))\n",
    "classifier.add(Dropout(.4))\n",
    "\n",
    "classifier.add(Dense(3, activation=\"softmax\"))"
   ]
  },
  {
   "cell_type": "code",
   "execution_count": 9,
   "metadata": {},
   "outputs": [
    {
     "name": "stdout",
     "output_type": "stream",
     "text": [
      "Model: \"sequential\"\n",
      "_________________________________________________________________\n",
      "Layer (type)                 Output Shape              Param #   \n",
      "=================================================================\n",
      "conv2d (Conv2D)              (None, 198, 198, 32)      896       \n",
      "_________________________________________________________________\n",
      "batch_normalization (BatchNo (None, 198, 198, 32)      128       \n",
      "_________________________________________________________________\n",
      "max_pooling2d (MaxPooling2D) (None, 99, 99, 32)        0         \n",
      "_________________________________________________________________\n",
      "dropout (Dropout)            (None, 99, 99, 32)        0         \n",
      "_________________________________________________________________\n",
      "conv2d_1 (Conv2D)            (None, 97, 97, 32)        9248      \n",
      "_________________________________________________________________\n",
      "batch_normalization_1 (Batch (None, 97, 97, 32)        128       \n",
      "_________________________________________________________________\n",
      "max_pooling2d_1 (MaxPooling2 (None, 48, 48, 32)        0         \n",
      "_________________________________________________________________\n",
      "dropout_1 (Dropout)          (None, 48, 48, 32)        0         \n",
      "_________________________________________________________________\n",
      "conv2d_2 (Conv2D)            (None, 46, 46, 64)        18496     \n",
      "_________________________________________________________________\n",
      "batch_normalization_2 (Batch (None, 46, 46, 64)        256       \n",
      "_________________________________________________________________\n",
      "max_pooling2d_2 (MaxPooling2 (None, 23, 23, 64)        0         \n",
      "_________________________________________________________________\n",
      "dropout_2 (Dropout)          (None, 23, 23, 64)        0         \n",
      "_________________________________________________________________\n",
      "conv2d_3 (Conv2D)            (None, 21, 21, 64)        36928     \n",
      "_________________________________________________________________\n",
      "batch_normalization_3 (Batch (None, 21, 21, 64)        256       \n",
      "_________________________________________________________________\n",
      "max_pooling2d_3 (MaxPooling2 (None, 10, 10, 64)        0         \n",
      "_________________________________________________________________\n",
      "dropout_3 (Dropout)          (None, 10, 10, 64)        0         \n",
      "_________________________________________________________________\n",
      "flatten (Flatten)            (None, 6400)              0         \n",
      "_________________________________________________________________\n",
      "dense (Dense)                (None, 512)               3277312   \n",
      "_________________________________________________________________\n",
      "dense_1 (Dense)              (None, 128)               65664     \n",
      "_________________________________________________________________\n",
      "dropout_4 (Dropout)          (None, 128)               0         \n",
      "_________________________________________________________________\n",
      "dense_2 (Dense)              (None, 3)                 387       \n",
      "=================================================================\n",
      "Total params: 3,409,699\n",
      "Trainable params: 3,409,315\n",
      "Non-trainable params: 384\n",
      "_________________________________________________________________\n"
     ]
    }
   ],
   "source": [
    "classifier.summary()"
   ]
  },
  {
   "cell_type": "code",
   "execution_count": 10,
   "metadata": {},
   "outputs": [
    {
     "name": "stdout",
     "output_type": "stream",
     "text": [
      "WARNING:tensorflow:From <ipython-input-10-d303d9e1f097>:13: Model.fit_generator (from tensorflow.python.keras.engine.training) is deprecated and will be removed in a future version.\n",
      "Instructions for updating:\n",
      "Please use Model.fit, which supports generators.\n",
      "Epoch 1/30\n",
      "22/22 [==============================] - 109s 5s/step - loss: 1.4534 - categorical_accuracy: 0.5899 - val_loss: 2.6489 - val_categorical_accuracy: 0.5521\n",
      "Epoch 2/30\n",
      "22/22 [==============================] - 102s 5s/step - loss: 0.5664 - categorical_accuracy: 0.7801 - val_loss: 5.3865 - val_categorical_accuracy: 0.3177\n",
      "Epoch 3/30\n",
      "22/22 [==============================] - 99s 5s/step - loss: 0.4596 - categorical_accuracy: 0.8213 - val_loss: 8.3850 - val_categorical_accuracy: 0.3220\n",
      "Epoch 4/30\n",
      "22/22 [==============================] - 97s 4s/step - loss: 0.4332 - categorical_accuracy: 0.8394 - val_loss: 4.6281 - val_categorical_accuracy: 0.4462\n",
      "Epoch 5/30\n",
      "22/22 [==============================] - 105s 5s/step - loss: 0.3562 - categorical_accuracy: 0.8694 - val_loss: 6.7347 - val_categorical_accuracy: 0.3125\n",
      "Epoch 6/30\n",
      "22/22 [==============================] - 98s 4s/step - loss: 0.3449 - categorical_accuracy: 0.8716 - val_loss: 5.3520 - val_categorical_accuracy: 0.3194\n",
      "Epoch 7/30\n",
      "22/22 [==============================] - 103s 5s/step - loss: 0.3150 - categorical_accuracy: 0.8850 - val_loss: 4.3307 - val_categorical_accuracy: 0.4696\n",
      "Epoch 8/30\n",
      "22/22 [==============================] - 96s 4s/step - loss: 0.3175 - categorical_accuracy: 0.8843 - val_loss: 3.6319 - val_categorical_accuracy: 0.5764\n",
      "Epoch 9/30\n",
      "22/22 [==============================] - 97s 4s/step - loss: 0.3242 - categorical_accuracy: 0.8786 - val_loss: 7.5749 - val_categorical_accuracy: 0.3238\n",
      "Epoch 10/30\n",
      "22/22 [==============================] - 99s 5s/step - loss: 0.2977 - categorical_accuracy: 0.8976 - val_loss: 6.4827 - val_categorical_accuracy: 0.3220\n",
      "Epoch 11/30\n",
      "22/22 [==============================] - 105s 5s/step - loss: 0.2720 - categorical_accuracy: 0.9013 - val_loss: 5.9345 - val_categorical_accuracy: 0.3863\n",
      "Epoch 12/30\n",
      "22/22 [==============================] - 108s 5s/step - loss: 0.2641 - categorical_accuracy: 0.9067 - val_loss: 5.6082 - val_categorical_accuracy: 0.3724\n",
      "Epoch 13/30\n",
      "22/22 [==============================] - 102s 5s/step - loss: 0.2651 - categorical_accuracy: 0.9118 - val_loss: 6.4021 - val_categorical_accuracy: 0.3168\n",
      "Epoch 14/30\n",
      "22/22 [==============================] - 97s 4s/step - loss: 0.2391 - categorical_accuracy: 0.9193 - val_loss: 9.0847 - val_categorical_accuracy: 0.3151\n",
      "Epoch 15/30\n",
      "22/22 [==============================] - 96s 4s/step - loss: 0.2408 - categorical_accuracy: 0.9183 - val_loss: 6.0099 - val_categorical_accuracy: 0.4948\n",
      "Epoch 16/30\n",
      "22/22 [==============================] - 97s 4s/step - loss: 0.2248 - categorical_accuracy: 0.9251 - val_loss: 6.2159 - val_categorical_accuracy: 0.4878\n",
      "Epoch 17/30\n",
      "22/22 [==============================] - 100s 5s/step - loss: 0.2308 - categorical_accuracy: 0.9237 - val_loss: 5.4395 - val_categorical_accuracy: 0.5095\n",
      "Epoch 18/30\n",
      "22/22 [==============================] - 95s 4s/step - loss: 0.2366 - categorical_accuracy: 0.9172 - val_loss: 6.7364 - val_categorical_accuracy: 0.3220\n",
      "Epoch 19/30\n",
      "22/22 [==============================] - 95s 4s/step - loss: 0.2247 - categorical_accuracy: 0.9201 - val_loss: 3.1106 - val_categorical_accuracy: 0.4210\n",
      "Epoch 20/30\n",
      "22/22 [==============================] - 95s 4s/step - loss: 0.2217 - categorical_accuracy: 0.9222 - val_loss: 6.3957 - val_categorical_accuracy: 0.4444\n",
      "Epoch 21/30\n",
      "22/22 [==============================] - 95s 4s/step - loss: 0.2454 - categorical_accuracy: 0.9179 - val_loss: 4.4748 - val_categorical_accuracy: 0.6311\n",
      "Epoch 22/30\n",
      "22/22 [==============================] - 95s 4s/step - loss: 0.2036 - categorical_accuracy: 0.9219 - val_loss: 4.0786 - val_categorical_accuracy: 0.6241\n",
      "Epoch 23/30\n",
      "22/22 [==============================] - 95s 4s/step - loss: 0.1983 - categorical_accuracy: 0.9331 - val_loss: 3.5411 - val_categorical_accuracy: 0.6215\n",
      "Epoch 24/30\n",
      "22/22 [==============================] - 96s 4s/step - loss: 0.1980 - categorical_accuracy: 0.9324 - val_loss: 1.7634 - val_categorical_accuracy: 0.6545\n",
      "Epoch 25/30\n",
      "22/22 [==============================] - 95s 4s/step - loss: 0.2097 - categorical_accuracy: 0.9284 - val_loss: 3.3438 - val_categorical_accuracy: 0.6406\n",
      "Epoch 26/30\n",
      "22/22 [==============================] - 95s 4s/step - loss: 0.2035 - categorical_accuracy: 0.9284 - val_loss: 3.6304 - val_categorical_accuracy: 0.6172\n",
      "Epoch 27/30\n",
      "22/22 [==============================] - 96s 4s/step - loss: 0.1903 - categorical_accuracy: 0.9378 - val_loss: 1.7006 - val_categorical_accuracy: 0.6615\n",
      "Epoch 28/30\n",
      "22/22 [==============================] - 94s 4s/step - loss: 0.1941 - categorical_accuracy: 0.9371 - val_loss: 0.8652 - val_categorical_accuracy: 0.7387\n",
      "Epoch 29/30\n",
      "22/22 [==============================] - 95s 4s/step - loss: 0.1944 - categorical_accuracy: 0.9309 - val_loss: 3.6616 - val_categorical_accuracy: 0.6155\n",
      "Epoch 30/30\n",
      "22/22 [==============================] - 96s 4s/step - loss: 0.1909 - categorical_accuracy: 0.9360 - val_loss: 1.6882 - val_categorical_accuracy: 0.6615\n"
     ]
    }
   ],
   "source": [
    "classifier.compile(loss=\"categorical_crossentropy\", \n",
    "              optimizer=\"adam\", \n",
    "              metrics=[\"categorical_accuracy\"])\n",
    "\n",
    "total_sample=train_generator.n\n",
    "total_test=test_generator.n\n",
    "batch_size=128\n",
    "\n",
    "history= classifier.fit_generator(\n",
    "            train_generator, steps_per_epoch=int(total_sample/batch_size),\n",
    "            epochs=30,\n",
    "            validation_data=test_generator, \n",
    "            validation_steps=int(total_test/batch_size))"
   ]
  },
  {
   "cell_type": "code",
   "execution_count": 11,
   "metadata": {},
   "outputs": [],
   "source": [
    "# Save Model- save weights\n",
    "classifier.save(\"model_1.h5\")"
   ]
  },
  {
   "cell_type": "code",
   "execution_count": 12,
   "metadata": {},
   "outputs": [
    {
     "name": "stdout",
     "output_type": "stream",
     "text": [
      "23/23 [==============================] - 56s 2s/step - loss: 2.9574 - categorical_accuracy: 0.5973\n",
      "\n",
      " Train Accuracy: 0.5973038077354431\n",
      "\n",
      " Train Loss: 2.957383632659912\n"
     ]
    }
   ],
   "source": [
    "# Train Loss/ Train Accuracy\n",
    "train_loss, train_acc = classifier.evaluate(train_generator)\n",
    "print(\"\\n Train Accuracy:\", train_acc)\n",
    "print(\"\\n Train Loss:\", train_loss)"
   ]
  },
  {
   "cell_type": "code",
   "execution_count": 13,
   "metadata": {},
   "outputs": [
    {
     "name": "stdout",
     "output_type": "stream",
     "text": [
      "10/10 [==============================] - 15s 1s/step - loss: 1.6552 - categorical_accuracy: 0.6632\n",
      "\n",
      " Test Accuracy: 0.6631664037704468\n",
      "\n",
      " Test Loss: 1.6551761627197266\n"
     ]
    }
   ],
   "source": [
    "# Test Loss/ Test Accuracy\n",
    "test_loss, test_acc= classifier.evaluate(test_generator)\n",
    "print(\"\\n Test Accuracy:\", test_acc)\n",
    "print(\"\\n Test Loss:\", test_loss)"
   ]
  },
  {
   "cell_type": "code",
   "execution_count": 19,
   "metadata": {},
   "outputs": [
    {
     "data": {
      "text/plain": [
       "['loss', 'categorical_accuracy']"
      ]
     },
     "execution_count": 19,
     "metadata": {},
     "output_type": "execute_result"
    }
   ],
   "source": [
    "classifier.metrics_names"
   ]
  },
  {
   "cell_type": "code",
   "execution_count": 20,
   "metadata": {},
   "outputs": [
    {
     "data": {
      "image/png": "[encoded data removed]",
      "text/plain": [
       "<Figure size 432x288 with 1 Axes>"
      ]
     },
     "metadata": {
      "needs_background": "light"
     },
     "output_type": "display_data"
    }
   ],
   "source": [
    "# PLOT ACCURACY\n",
    "plt.plot(history.history['categorical_accuracy'])\n",
    "plt.plot(history.history['val_categorical_accuracy'])\n",
    "plt.title('Model Accuracy per Epoch')\n",
    "plt.ylabel('accuracy')\n",
    "plt.xlabel('epoch')\n",
    "plt.legend(['train', 'test'], loc='lower center')\n",
    "plt.show()"
   ]
  },
  {
   "cell_type": "code",
   "execution_count": 25,
   "metadata": {},
   "outputs": [
    {
     "data": {
      "image/png": "[encoded data removed]",
      "text/plain": [
       "<Figure size 432x288 with 1 Axes>"
      ]
     },
     "metadata": {
      "needs_background": "light"
     },
     "output_type": "display_data"
    }
   ],
   "source": [
    "# PLOT LOSS\n",
    "plt.plot(history.history['loss'])\n",
    "plt.plot(history.history['val_loss'])\n",
    "plt.title('Model Accuracy per Epoch')\n",
    "plt.ylabel('loss')\n",
    "plt.xlabel('epoch')\n",
    "plt.legend(['train', 'test'], loc='lower center')\n",
    "plt.show()"
   ]
  },
  {
   "cell_type": "code",
   "execution_count": 30,
   "metadata": {},
   "outputs": [],
   "source": [
    "# Save history of model into csv\n",
    "hist_df1 = pd.DataFrame(history.history) \n",
    "\n",
    "# or save to csv: \n",
    "hist_csv_file = 'history1.csv'\n",
    "with open(hist_csv_file, mode='w') as f:\n",
    "    hist_df1.to_csv(f)"
   ]
  },
  {
   "cell_type": "markdown",
   "metadata": {},
   "source": [
    "## Model 2"
   ]
  },
  {
   "cell_type": "code",
   "execution_count": 31,
   "metadata": {},
   "outputs": [],
   "source": [
    "## Model 2\n",
    "classifier= Sequential()\n",
    "\n",
    "# First convolution layer\n",
    "classifier.add(Conv2D(32, (3,3), input_shape=(200,200,3),activation='relu'))\n",
    "classifier.add(BatchNormalization())\n",
    "classifier.add(MaxPooling2D(pool_size=(2,2)))\n",
    "\n",
    "# Second convolution layer\n",
    "classifier.add(Conv2D(64,(3,3),activation=\"relu\"))\n",
    "classifier.add(Dropout(0.1))\n",
    "classifier.add(BatchNormalization())\n",
    "classifier.add(MaxPooling2D(pool_size=(2,2)))\n",
    "\n",
    "# Third convolution layer\n",
    "classifier.add(Conv2D(64, (3,3), activation=\"relu\"))\n",
    "classifier.add(BatchNormalization())\n",
    "classifier.add(MaxPooling2D(pool_size=(2,2)))\n",
    "\n",
    "# Fourth convolution layer\n",
    "classifier.add(Conv2D(128, (3,3), activation=\"relu\"))\n",
    "classifier.add(Dropout(0.2))\n",
    "classifier.add(BatchNormalization())\n",
    "classifier.add(MaxPooling2D(pool_size=(2,2)))\n",
    "\n",
    "#Fifth convolution layer\n",
    "classifier.add(Conv2D(128, (3,3), activation=\"relu\"))\n",
    "classifier.add(Dropout(0.2))\n",
    "classifier.add(BatchNormalization())\n",
    "classifier.add(MaxPooling2D(pool_size=(2,2)))\n",
    "\n",
    "# Flatten the results to feed into a dense layer\n",
    "classifier.add(Flatten())\n",
    "\n",
    "# 128 neuron in the fully-connected layer\n",
    "classifier.add(Dense(units = 128 , activation = 'relu'))\n",
    "classifier.add(Dropout(0.2))\n",
    "\n",
    "# 14 output neurons for 14 classes with the softmax activation\n",
    "classifier.add(Dense(units = 3 , activation = 'softmax'))"
   ]
  },
  {
   "cell_type": "code",
   "execution_count": 32,
   "metadata": {},
   "outputs": [
    {
     "name": "stdout",
     "output_type": "stream",
     "text": [
      "Model: \"sequential_3\"\n",
      "_________________________________________________________________\n",
      "Layer (type)                 Output Shape              Param #   \n",
      "=================================================================\n",
      "conv2d_14 (Conv2D)           (None, 198, 198, 32)      896       \n",
      "_________________________________________________________________\n",
      "batch_normalization_14 (Batc (None, 198, 198, 32)      128       \n",
      "_________________________________________________________________\n",
      "max_pooling2d_14 (MaxPooling (None, 99, 99, 32)        0         \n",
      "_________________________________________________________________\n",
      "conv2d_15 (Conv2D)           (None, 97, 97, 64)        18496     \n",
      "_________________________________________________________________\n",
      "dropout_13 (Dropout)         (None, 97, 97, 64)        0         \n",
      "_________________________________________________________________\n",
      "batch_normalization_15 (Batc (None, 97, 97, 64)        256       \n",
      "_________________________________________________________________\n",
      "max_pooling2d_15 (MaxPooling (None, 48, 48, 64)        0         \n",
      "_________________________________________________________________\n",
      "conv2d_16 (Conv2D)           (None, 46, 46, 64)        36928     \n",
      "_________________________________________________________________\n",
      "batch_normalization_16 (Batc (None, 46, 46, 64)        256       \n",
      "_________________________________________________________________\n",
      "max_pooling2d_16 (MaxPooling (None, 23, 23, 64)        0         \n",
      "_________________________________________________________________\n",
      "conv2d_17 (Conv2D)           (None, 21, 21, 128)       73856     \n",
      "_________________________________________________________________\n",
      "dropout_14 (Dropout)         (None, 21, 21, 128)       0         \n",
      "_________________________________________________________________\n",
      "batch_normalization_17 (Batc (None, 21, 21, 128)       512       \n",
      "_________________________________________________________________\n",
      "max_pooling2d_17 (MaxPooling (None, 10, 10, 128)       0         \n",
      "_________________________________________________________________\n",
      "conv2d_18 (Conv2D)           (None, 8, 8, 128)         147584    \n",
      "_________________________________________________________________\n",
      "dropout_15 (Dropout)         (None, 8, 8, 128)         0         \n",
      "_________________________________________________________________\n",
      "batch_normalization_18 (Batc (None, 8, 8, 128)         512       \n",
      "_________________________________________________________________\n",
      "max_pooling2d_18 (MaxPooling (None, 4, 4, 128)         0         \n",
      "_________________________________________________________________\n",
      "flatten_3 (Flatten)          (None, 2048)              0         \n",
      "_________________________________________________________________\n",
      "dense_7 (Dense)              (None, 128)               262272    \n",
      "_________________________________________________________________\n",
      "dropout_16 (Dropout)         (None, 128)               0         \n",
      "_________________________________________________________________\n",
      "dense_8 (Dense)              (None, 3)                 387       \n",
      "=================================================================\n",
      "Total params: 542,083\n",
      "Trainable params: 541,251\n",
      "Non-trainable params: 832\n",
      "_________________________________________________________________\n"
     ]
    }
   ],
   "source": [
    "classifier.summary()"
   ]
  },
  {
   "cell_type": "code",
   "execution_count": 33,
   "metadata": {},
   "outputs": [
    {
     "name": "stdout",
     "output_type": "stream",
     "text": [
      "Epoch 1/30\n",
      "22/22 [==============================] - 113s 5s/step - loss: 0.7904 - accuracy: 0.7353 - val_loss: 1.5889 - val_accuracy: 0.3186\n",
      "Epoch 2/30\n",
      "22/22 [==============================] - 121s 6s/step - loss: 0.3502 - accuracy: 0.8687 - val_loss: 2.8283 - val_accuracy: 0.5703\n",
      "Epoch 3/30\n",
      "22/22 [==============================] - 109s 5s/step - loss: 0.2948 - accuracy: 0.8911 - val_loss: 3.5147 - val_accuracy: 0.4983\n",
      "Epoch 4/30\n",
      "22/22 [==============================] - 110s 5s/step - loss: 0.2565 - accuracy: 0.9087 - val_loss: 4.4834 - val_accuracy: 0.3229\n",
      "Epoch 5/30\n",
      "22/22 [==============================] - 108s 5s/step - loss: 0.2481 - accuracy: 0.9107 - val_loss: 5.0507 - val_accuracy: 0.3229\n",
      "Epoch 6/30\n",
      "22/22 [==============================] - 109s 5s/step - loss: 0.2424 - accuracy: 0.9161 - val_loss: 4.6095 - val_accuracy: 0.3264\n",
      "Epoch 7/30\n",
      "22/22 [==============================] - 126s 6s/step - loss: 0.2216 - accuracy: 0.9233 - val_loss: 4.6092 - val_accuracy: 0.3368\n",
      "Epoch 8/30\n",
      "22/22 [==============================] - 118s 5s/step - loss: 0.2252 - accuracy: 0.9244 - val_loss: 4.3680 - val_accuracy: 0.4245\n",
      "Epoch 9/30\n",
      "22/22 [==============================] - 118s 5s/step - loss: 0.2095 - accuracy: 0.9280 - val_loss: 5.1405 - val_accuracy: 0.3464\n",
      "Epoch 10/30\n",
      "22/22 [==============================] - 108s 5s/step - loss: 0.2121 - accuracy: 0.9248 - val_loss: 3.9194 - val_accuracy: 0.6111\n",
      "Epoch 11/30\n",
      "22/22 [==============================] - 112s 5s/step - loss: 0.1834 - accuracy: 0.9363 - val_loss: 4.0545 - val_accuracy: 0.5564\n",
      "Epoch 12/30\n",
      "22/22 [==============================] - 107s 5s/step - loss: 0.1574 - accuracy: 0.9378 - val_loss: 3.9158 - val_accuracy: 0.6241\n",
      "Epoch 13/30\n",
      "22/22 [==============================] - 108s 5s/step - loss: 0.1863 - accuracy: 0.9364 - val_loss: 3.6592 - val_accuracy: 0.5477\n",
      "Epoch 14/30\n",
      "22/22 [==============================] - 108s 5s/step - loss: 0.1653 - accuracy: 0.9407 - val_loss: 3.9207 - val_accuracy: 0.5938\n",
      "Epoch 15/30\n",
      "22/22 [==============================] - 113s 5s/step - loss: 0.1577 - accuracy: 0.9439 - val_loss: 3.0664 - val_accuracy: 0.6259\n",
      "Epoch 16/30\n",
      "22/22 [==============================] - 121s 6s/step - loss: 0.1606 - accuracy: 0.9461 - val_loss: 4.4252 - val_accuracy: 0.5460\n",
      "Epoch 17/30\n",
      "22/22 [==============================] - 110s 5s/step - loss: 0.1723 - accuracy: 0.9403 - val_loss: 3.4054 - val_accuracy: 0.6345\n",
      "Epoch 18/30\n",
      "22/22 [==============================] - 108s 5s/step - loss: 0.1664 - accuracy: 0.9403 - val_loss: 3.9007 - val_accuracy: 0.6120\n",
      "Epoch 19/30\n",
      "22/22 [==============================] - 108s 5s/step - loss: 0.1566 - accuracy: 0.9472 - val_loss: 3.2785 - val_accuracy: 0.6354\n",
      "Epoch 20/30\n",
      "22/22 [==============================] - 107s 5s/step - loss: 0.1634 - accuracy: 0.9421 - val_loss: 3.4436 - val_accuracy: 0.6476\n",
      "Epoch 21/30\n",
      "22/22 [==============================] - 107s 5s/step - loss: 0.1489 - accuracy: 0.9501 - val_loss: 0.2895 - val_accuracy: 0.9089\n",
      "Epoch 22/30\n",
      "22/22 [==============================] - 108s 5s/step - loss: 0.1361 - accuracy: 0.9548 - val_loss: 1.0155 - val_accuracy: 0.6988\n",
      "Epoch 23/30\n",
      "22/22 [==============================] - 113s 5s/step - loss: 0.1119 - accuracy: 0.9599 - val_loss: 2.2190 - val_accuracy: 0.5990\n",
      "Epoch 24/30\n",
      "22/22 [==============================] - 120s 5s/step - loss: 0.1228 - accuracy: 0.9563 - val_loss: 2.6979 - val_accuracy: 0.5200\n",
      "Epoch 25/30\n",
      "22/22 [==============================] - 108s 5s/step - loss: 0.1440 - accuracy: 0.9494 - val_loss: 2.7803 - val_accuracy: 0.6415\n",
      "Epoch 26/30\n",
      "22/22 [==============================] - 123s 6s/step - loss: 0.1252 - accuracy: 0.9559 - val_loss: 3.5282 - val_accuracy: 0.5026\n",
      "Epoch 27/30\n",
      "22/22 [==============================] - 116s 5s/step - loss: 0.1227 - accuracy: 0.9526 - val_loss: 1.0106 - val_accuracy: 0.5530\n",
      "Epoch 28/30\n",
      "22/22 [==============================] - 112s 5s/step - loss: 0.1100 - accuracy: 0.9649 - val_loss: 1.0411 - val_accuracy: 0.5269\n",
      "Epoch 29/30\n",
      "22/22 [==============================] - 107s 5s/step - loss: 0.1195 - accuracy: 0.9595 - val_loss: 2.9539 - val_accuracy: 0.6224\n",
      "Epoch 30/30\n",
      "22/22 [==============================] - 108s 5s/step - loss: 0.1354 - accuracy: 0.9548 - val_loss: 2.6053 - val_accuracy: 0.6181\n"
     ]
    }
   ],
   "source": [
    "# Model 2, with augmentation\n",
    "classifier.compile(\n",
    "  optimizer='adam',\n",
    "  loss=\"categorical_crossentropy\",\n",
    "  metrics=['accuracy'])\n",
    "\n",
    "\n",
    "total_sample= train_generator.n\n",
    "total_test=test_generator.n\n",
    "batch_size=128\n",
    "\n",
    "\n",
    "history= classifier.fit_generator(\n",
    "            train_generator, steps_per_epoch=int(total_sample/batch_size),\n",
    "            epochs=30,\n",
    "            validation_data=test_generator,\n",
    "            validation_steps=int(total_test/batch_size))"
   ]
  },
  {
   "cell_type": "code",
   "execution_count": 34,
   "metadata": {},
   "outputs": [],
   "source": [
    "# Save Model-save weights\n",
    "classifier.save(\"model_2.h5\")"
   ]
  },
  {
   "cell_type": "code",
   "execution_count": 35,
   "metadata": {},
   "outputs": [
    {
     "name": "stdout",
     "output_type": "stream",
     "text": [
      "23/23 [==============================] - 59s 3s/step - loss: 3.5160 - accuracy: 0.5900\n",
      "\n",
      " Train Accuracy: 0.5900449156761169\n",
      "\n",
      " Train Loss: 3.515977144241333\n"
     ]
    }
   ],
   "source": [
    "# Train loss/ Train Accuracy\n",
    "train_loss, train_acc = classifier.evaluate(train_generator)\n",
    "print(\"\\n Train Accuracy:\", train_acc)\n",
    "print(\"\\n Train Loss:\", train_loss)"
   ]
  },
  {
   "cell_type": "code",
   "execution_count": 36,
   "metadata": {},
   "outputs": [
    {
     "name": "stdout",
     "output_type": "stream",
     "text": [
      "10/10 [==============================] - 16s 2s/step - loss: 2.5968 - accuracy: 0.6195\n",
      "\n",
      " Test Accuracy: 0.6195476651191711\n",
      "\n",
      " Test Loss: 2.5968239307403564\n"
     ]
    }
   ],
   "source": [
    "# Test Loss/ Test Accuracy\n",
    "test_loss, test_acc= classifier.evaluate(test_generator)\n",
    "print(\"\\n Test Accuracy:\", test_acc)\n",
    "print(\"\\n Test Loss:\", test_loss)"
   ]
  },
  {
   "cell_type": "code",
   "execution_count": 39,
   "metadata": {},
   "outputs": [
    {
     "data": {
      "text/plain": [
       "['loss', 'accuracy']"
      ]
     },
     "execution_count": 39,
     "metadata": {},
     "output_type": "execute_result"
    }
   ],
   "source": [
    "classifier.metrics_names"
   ]
  },
  {
   "cell_type": "code",
   "execution_count": 40,
   "metadata": {},
   "outputs": [
    {
     "data": {
      "image/png": "[encoded data removed]",
      "text/plain": [
       "<Figure size 432x288 with 1 Axes>"
      ]
     },
     "metadata": {
      "needs_background": "light"
     },
     "output_type": "display_data"
    }
   ],
   "source": [
    "# PLOT ACCURACY\n",
    "plt.plot(history.history['accuracy'])\n",
    "plt.plot(history.history['val_accuracy'])\n",
    "plt.title('Model 2 Accuracy per Epoch')\n",
    "plt.ylabel('accuracy')\n",
    "plt.xlabel('epoch')\n",
    "plt.legend(['train', 'test'], loc='lower center')\n",
    "plt.show()"
   ]
  },
  {
   "cell_type": "code",
   "execution_count": 41,
   "metadata": {},
   "outputs": [
    {
     "data": {
      "image/png": "[encoded data removed]",
      "text/plain": [
       "<Figure size 432x288 with 1 Axes>"
      ]
     },
     "metadata": {
      "needs_background": "light"
     },
     "output_type": "display_data"
    }
   ],
   "source": [
    "# PLOT LOSS\n",
    "plt.plot(history.history['loss'])\n",
    "plt.plot(history.history['val_loss'])\n",
    "plt.title('Model 2 Accuracy per Epoch')\n",
    "plt.ylabel('loss')\n",
    "plt.xlabel('epoch')\n",
    "plt.legend(['train', 'test'], loc='lower center')\n",
    "plt.show()"
   ]
  },
  {
   "cell_type": "code",
   "execution_count": 38,
   "metadata": {},
   "outputs": [],
   "source": [
    "# Save history of model into csv\n",
    "hist_df2 = pd.DataFrame(history.history) \n",
    "\n",
    "# or save to csv: \n",
    "hist_csv_file = 'history2.csv'\n",
    "with open(hist_csv_file, mode='w') as f:\n",
    "    hist_df2.to_csv(f)"
   ]
  },
  {
   "cell_type": "markdown",
   "metadata": {},
   "source": [
    "# Model 3"
   ]
  },
  {
   "cell_type": "code",
   "execution_count": 42,
   "metadata": {},
   "outputs": [],
   "source": [
    "# Model 3\n",
    "# GENERATE MODEL\n",
    "classifier= Sequential()\n",
    "\n",
    "# First convolution layer\n",
    "classifier.add(Conv2D(32, (3,3), input_shape=(200,200,3),activation='relu'))\n",
    "classifier.add(BatchNormalization())\n",
    "classifier.add(MaxPooling2D(pool_size=(2,2)))\n",
    "\n",
    "# Second convolution layer\n",
    "classifier.add(Conv2D(32,(3,3),activation=\"relu\"))\n",
    "classifier.add(Dropout(0.1))\n",
    "classifier.add(BatchNormalization())\n",
    "classifier.add(MaxPooling2D(pool_size=(2,2)))\n",
    "\n",
    "# Flatten the results to feed into a dense layer\n",
    "classifier.add(Flatten())\n",
    "\n",
    "# 128 neuron in the fully-connected layer\n",
    "classifier.add(Dense(128 , activation = 'relu'))\n",
    "classifier.add(Dropout(0.2))\n",
    "\n",
    "# 14 output neurons for 14 classes with the softmax activation\n",
    "classifier.add(Dense(3 , activation = 'softmax'))"
   ]
  },
  {
   "cell_type": "code",
   "execution_count": 44,
   "metadata": {},
   "outputs": [
    {
     "name": "stdout",
     "output_type": "stream",
     "text": [
      "Model: \"sequential_4\"\n",
      "_________________________________________________________________\n",
      "Layer (type)                 Output Shape              Param #   \n",
      "=================================================================\n",
      "conv2d_19 (Conv2D)           (None, 198, 198, 32)      896       \n",
      "_________________________________________________________________\n",
      "batch_normalization_19 (Batc (None, 198, 198, 32)      128       \n",
      "_________________________________________________________________\n",
      "max_pooling2d_19 (MaxPooling (None, 99, 99, 32)        0         \n",
      "_________________________________________________________________\n",
      "conv2d_20 (Conv2D)           (None, 97, 97, 32)        9248      \n",
      "_________________________________________________________________\n",
      "dropout_17 (Dropout)         (None, 97, 97, 32)        0         \n",
      "_________________________________________________________________\n",
      "batch_normalization_20 (Batc (None, 97, 97, 32)        128       \n",
      "_________________________________________________________________\n",
      "max_pooling2d_20 (MaxPooling (None, 48, 48, 32)        0         \n",
      "_________________________________________________________________\n",
      "flatten_4 (Flatten)          (None, 73728)             0         \n",
      "_________________________________________________________________\n",
      "dense_9 (Dense)              (None, 128)               9437312   \n",
      "_________________________________________________________________\n",
      "dropout_18 (Dropout)         (None, 128)               0         \n",
      "_________________________________________________________________\n",
      "dense_10 (Dense)             (None, 3)                 387       \n",
      "=================================================================\n",
      "Total params: 9,448,099\n",
      "Trainable params: 9,447,971\n",
      "Non-trainable params: 128\n",
      "_________________________________________________________________\n"
     ]
    }
   ],
   "source": [
    "classifier.summary()"
   ]
  },
  {
   "cell_type": "code",
   "execution_count": 45,
   "metadata": {},
   "outputs": [
    {
     "name": "stdout",
     "output_type": "stream",
     "text": [
      "Epoch 1/30\n",
      "22/22 [==============================] - 97s 4s/step - loss: 1.7917 - accuracy: 0.6307 - val_loss: 2.0458 - val_accuracy: 0.5972\n",
      "Epoch 2/30\n",
      "22/22 [==============================] - 95s 4s/step - loss: 1.1467 - accuracy: 0.7638 - val_loss: 1.0402 - val_accuracy: 0.6068\n",
      "Epoch 3/30\n",
      "22/22 [==============================] - 89s 4s/step - loss: 0.6806 - accuracy: 0.7917 - val_loss: 1.7709 - val_accuracy: 0.5903\n",
      "Epoch 4/30\n",
      "22/22 [==============================] - 89s 4s/step - loss: 0.5549 - accuracy: 0.8242 - val_loss: 5.2704 - val_accuracy: 0.5764\n",
      "Epoch 5/30\n",
      "22/22 [==============================] - 89s 4s/step - loss: 0.5075 - accuracy: 0.8257 - val_loss: 8.2677 - val_accuracy: 0.6120\n",
      "Epoch 6/30\n",
      "22/22 [==============================] - 91s 4s/step - loss: 0.4065 - accuracy: 0.8448 - val_loss: 9.3292 - val_accuracy: 0.5694\n",
      "Epoch 7/30\n",
      "22/22 [==============================] - 89s 4s/step - loss: 0.4379 - accuracy: 0.8488 - val_loss: 10.8449 - val_accuracy: 0.5139\n",
      "Epoch 8/30\n",
      "22/22 [==============================] - 89s 4s/step - loss: 0.4348 - accuracy: 0.8430 - val_loss: 14.1199 - val_accuracy: 0.6207\n",
      "Epoch 9/30\n",
      "22/22 [==============================] - 91s 4s/step - loss: 0.3835 - accuracy: 0.8702 - val_loss: 12.8136 - val_accuracy: 0.6120\n",
      "Epoch 10/30\n",
      "22/22 [==============================] - 90s 4s/step - loss: 0.3978 - accuracy: 0.8528 - val_loss: 14.1623 - val_accuracy: 0.6259\n",
      "Epoch 11/30\n",
      "22/22 [==============================] - 91s 4s/step - loss: 0.4555 - accuracy: 0.8514 - val_loss: 12.1323 - val_accuracy: 0.5312\n",
      "Epoch 12/30\n",
      "22/22 [==============================] - 97s 4s/step - loss: 0.4040 - accuracy: 0.8691 - val_loss: 16.0304 - val_accuracy: 0.5764\n",
      "Epoch 13/30\n",
      "22/22 [==============================] - 90s 4s/step - loss: 0.4396 - accuracy: 0.8597 - val_loss: 10.1425 - val_accuracy: 0.5477\n",
      "Epoch 14/30\n",
      "22/22 [==============================] - 90s 4s/step - loss: 0.3649 - accuracy: 0.8814 - val_loss: 10.1981 - val_accuracy: 0.5920\n",
      "Epoch 15/30\n",
      "22/22 [==============================] - 89s 4s/step - loss: 0.3440 - accuracy: 0.8846 - val_loss: 6.7910 - val_accuracy: 0.6172\n",
      "Epoch 16/30\n",
      "22/22 [==============================] - 88s 4s/step - loss: 0.2930 - accuracy: 0.8984 - val_loss: 5.5828 - val_accuracy: 0.6155\n",
      "Epoch 17/30\n",
      "22/22 [==============================] - 88s 4s/step - loss: 0.2840 - accuracy: 0.8962 - val_loss: 5.3080 - val_accuracy: 0.6146\n",
      "Epoch 18/30\n",
      "22/22 [==============================] - 89s 4s/step - loss: 0.2926 - accuracy: 0.8940 - val_loss: 6.6414 - val_accuracy: 0.5243\n",
      "Epoch 19/30\n",
      "22/22 [==============================] - 89s 4s/step - loss: 0.2936 - accuracy: 0.8893 - val_loss: 4.2718 - val_accuracy: 0.5859\n",
      "Epoch 20/30\n",
      "22/22 [==============================] - 89s 4s/step - loss: 0.3027 - accuracy: 0.8995 - val_loss: 5.3023 - val_accuracy: 0.5547\n",
      "Epoch 21/30\n",
      "22/22 [==============================] - 586s 27s/step - loss: 0.2756 - accuracy: 0.9009 - val_loss: 10.3255 - val_accuracy: 0.3941\n",
      "Epoch 22/30\n",
      "22/22 [==============================] - 89s 4s/step - loss: 0.2638 - accuracy: 0.9139 - val_loss: 7.1676 - val_accuracy: 0.4609\n",
      "Epoch 23/30\n",
      "22/22 [==============================] - 88s 4s/step - loss: 0.2843 - accuracy: 0.8995 - val_loss: 8.5816 - val_accuracy: 0.3472\n",
      "Epoch 24/30\n",
      "22/22 [==============================] - 90s 4s/step - loss: 0.2673 - accuracy: 0.9071 - val_loss: 3.9531 - val_accuracy: 0.3368\n",
      "Epoch 25/30\n",
      "22/22 [==============================] - 90s 4s/step - loss: 0.2695 - accuracy: 0.9016 - val_loss: 2.3549 - val_accuracy: 0.6424\n",
      "Epoch 26/30\n",
      "22/22 [==============================] - 89s 4s/step - loss: 0.2442 - accuracy: 0.9175 - val_loss: 1.0332 - val_accuracy: 0.7222\n",
      "Epoch 27/30\n",
      "22/22 [==============================] - 89s 4s/step - loss: 0.2557 - accuracy: 0.9071 - val_loss: 2.8494 - val_accuracy: 0.4766\n",
      "Epoch 28/30\n",
      "22/22 [==============================] - 97s 4s/step - loss: 0.2448 - accuracy: 0.9157 - val_loss: 0.9255 - val_accuracy: 0.7222\n",
      "Epoch 29/30\n",
      "22/22 [==============================] - 90s 4s/step - loss: 0.2556 - accuracy: 0.9157 - val_loss: 0.6947 - val_accuracy: 0.7231\n",
      "Epoch 30/30\n",
      "22/22 [==============================] - 100s 5s/step - loss: 0.2423 - accuracy: 0.9172 - val_loss: 0.9551 - val_accuracy: 0.6892\n"
     ]
    }
   ],
   "source": [
    "# Model 3, with augmentation\n",
    "classifier.compile(\n",
    "  optimizer='adam',\n",
    "  loss=\"categorical_crossentropy\",\n",
    "  metrics=['accuracy'])\n",
    "\n",
    "# total_valsample=test_generator.n\n",
    "total_sample= train_generator.n\n",
    "total_test=test_generator.n\n",
    "batch_size=128\n",
    "\n",
    "history= classifier.fit_generator(\n",
    "            train_generator, steps_per_epoch=int(total_sample/batch_size),\n",
    "            epochs=30,\n",
    "            validation_data=test_generator,\n",
    "            validation_steps=int(total_test/batch_size))"
   ]
  },
  {
   "cell_type": "code",
   "execution_count": 46,
   "metadata": {},
   "outputs": [],
   "source": [
    "# Save Model-save weights\n",
    "classifier.save(\"model_3.h5\")"
   ]
  },
  {
   "cell_type": "code",
   "execution_count": 47,
   "metadata": {},
   "outputs": [
    {
     "name": "stdout",
     "output_type": "stream",
     "text": [
      "23/23 [==============================] - 56s 2s/step - loss: 0.8944 - accuracy: 0.7598\n",
      "\n",
      " Train Accuracy: 0.7597649693489075\n",
      "\n",
      " Train Loss: 0.894377589225769\n"
     ]
    }
   ],
   "source": [
    "# Train loss/ Train Accuracy\n",
    "train_loss, train_acc = classifier.evaluate(train_generator)\n",
    "print(\"\\n Train Accuracy:\", train_acc)\n",
    "print(\"\\n Train Loss:\", train_loss)"
   ]
  },
  {
   "cell_type": "code",
   "execution_count": 48,
   "metadata": {},
   "outputs": [
    {
     "name": "stdout",
     "output_type": "stream",
     "text": [
      "10/10 [==============================] - 14s 1s/step - loss: 0.9478 - accuracy: 0.6882\n",
      "\n",
      " Test Accuracy: 0.6882067918777466\n",
      "\n",
      " Test Loss: 0.9478113651275635\n"
     ]
    }
   ],
   "source": [
    "# Test Loss/ Test Accuracy\n",
    "test_loss, test_acc= classifier.evaluate(test_generator)\n",
    "print(\"\\n Test Accuracy:\", test_acc)\n",
    "print(\"\\n Test Loss:\", test_loss)"
   ]
  },
  {
   "cell_type": "code",
   "execution_count": 49,
   "metadata": {},
   "outputs": [
    {
     "data": {
      "text/plain": [
       "['loss', 'accuracy']"
      ]
     },
     "execution_count": 49,
     "metadata": {},
     "output_type": "execute_result"
    }
   ],
   "source": [
    "classifier.metrics_names"
   ]
  },
  {
   "cell_type": "code",
   "execution_count": 50,
   "metadata": {},
   "outputs": [
    {
     "data": {
      "image/png": "[encoded data removed]",
      "text/plain": [
       "<Figure size 432x288 with 1 Axes>"
      ]
     },
     "metadata": {
      "needs_background": "light"
     },
     "output_type": "display_data"
    }
   ],
   "source": [
    "# PLOT ACCURACY\n",
    "plt.plot(history.history['accuracy'])\n",
    "plt.plot(history.history['val_accuracy'])\n",
    "plt.title('Model 3 Accuracy per Epoch')\n",
    "plt.ylabel('accuracy')\n",
    "plt.xlabel('epoch')\n",
    "plt.legend(['train', 'test'], loc='lower center')\n",
    "plt.show()"
   ]
  },
  {
   "cell_type": "code",
   "execution_count": 51,
   "metadata": {},
   "outputs": [
    {
     "data": {
      "image/png": "[encoded data removed]",
      "text/plain": [
       "<Figure size 432x288 with 1 Axes>"
      ]
     },
     "metadata": {
      "needs_background": "light"
     },
     "output_type": "display_data"
    }
   ],
   "source": [
    "# PLOT LOSS\n",
    "plt.plot(history.history['loss'])\n",
    "plt.plot(history.history['val_loss'])\n",
    "plt.title('Model 3 Accuracy per Epoch')\n",
    "plt.ylabel('loss')\n",
    "plt.xlabel('epoch')\n",
    "plt.legend(['train', 'test'], loc='lower center')\n",
    "plt.show()"
   ]
  },
  {
   "cell_type": "code",
   "execution_count": 52,
   "metadata": {},
   "outputs": [],
   "source": [
    "# Save history of model into csv\n",
    "hist_df3 = pd.DataFrame(history.history) \n",
    "\n",
    "# or save to csv: \n",
    "hist_csv_file = 'history3.csv'\n",
    "with open(hist_csv_file, mode='w') as f:\n",
    "    hist_df3.to_csv(f)"
   ]
  },
  {
   "cell_type": "markdown",
   "metadata": {},
   "source": [
    "# Model 4- Transfer Learning"
   ]
  },
  {
   "cell_type": "code",
   "execution_count": 53,
   "metadata": {},
   "outputs": [
    {
     "name": "stdout",
     "output_type": "stream",
     "text": [
      "Found 2893 images belonging to 3 classes.\n",
      "Found 1238 images belonging to 3 classes.\n"
     ]
    }
   ],
   "source": [
    "img_width, img_height=200,200\n",
    "batch_size=128\n",
    "\n",
    "data_dir = \"Database/\"\n",
    "\n",
    "# Rescale images \n",
    "datagen= ImageDataGenerator(rescale=1/255,validation_split=.3,rotation_range=20,\n",
    "                           shear_range=.2,width_shift_range=0.1,height_shift_range=0.1,zoom_range=0.2,\n",
    "                           preprocessing_function=preprocess_input)\n",
    "\n",
    "# Flow training images in batches of 128 using train_data \n",
    "train_generator= datagen.flow_from_directory(\n",
    "                data_dir,\n",
    "                target_size=(64,64),\n",
    "                batch_size=batch_size,\n",
    "                subset=\"training\",\n",
    "                class_mode=\"categorical\", \n",
    "                classes= [\"COVID19\", \"NORMAL\",\"Viral_Pneumonia\"],\n",
    "                shuffle=True, seed=30)\n",
    "\n",
    "\n",
    "datagen2=ImageDataGenerator(rescale=1/255,validation_split=.3,\n",
    "                            preprocessing_function=preprocess_input)\n",
    "\n",
    "test_generator=datagen2.flow_from_directory(\n",
    "                data_dir,\n",
    "                target_size=(64,64),\n",
    "                batch_size=batch_size,\n",
    "                classes= [\"COVID19\", \"NORMAL\",\"Viral_Pneumonia\"],\n",
    "                class_mode=\"categorical\", subset=\"validation\", shuffle=True, seed=30)"
   ]
  },
  {
   "cell_type": "code",
   "execution_count": 54,
   "metadata": {},
   "outputs": [],
   "source": [
    "# Model 4\n",
    "\n",
    "datagen= ImageDataGenerator(rescale=1/255,validation_split=.3)\n",
    "\n",
    "classifier=VGG16(weights=\"imagenet\", include_top=False, input_shape=(64,64,3))\n",
    "\n",
    "for layer in classifier.layers:\n",
    "    layer.trainable=False\n",
    "\n",
    "x=Flatten()(classifier.output)\n",
    "x=Dense(3, activation=\"softmax\")(x)\n",
    "\n",
    "model=Model(inputs=classifier.input, outputs=x)\n",
    "model.compile(loss=\"categorical_crossentropy\", optimizer=\"adam\",metrics=[\"accuracy\"])"
   ]
  },
  {
   "cell_type": "code",
   "execution_count": 56,
   "metadata": {},
   "outputs": [
    {
     "name": "stdout",
     "output_type": "stream",
     "text": [
      "Model: \"functional_1\"\n",
      "_________________________________________________________________\n",
      "Layer (type)                 Output Shape              Param #   \n",
      "=================================================================\n",
      "input_1 (InputLayer)         [(None, 64, 64, 3)]       0         \n",
      "_________________________________________________________________\n",
      "block1_conv1 (Conv2D)        (None, 64, 64, 64)        1792      \n",
      "_________________________________________________________________\n",
      "block1_conv2 (Conv2D)        (None, 64, 64, 64)        36928     \n",
      "_________________________________________________________________\n",
      "block1_pool (MaxPooling2D)   (None, 32, 32, 64)        0         \n",
      "_________________________________________________________________\n",
      "block2_conv1 (Conv2D)        (None, 32, 32, 128)       73856     \n",
      "_________________________________________________________________\n",
      "block2_conv2 (Conv2D)        (None, 32, 32, 128)       147584    \n",
      "_________________________________________________________________\n",
      "block2_pool (MaxPooling2D)   (None, 16, 16, 128)       0         \n",
      "_________________________________________________________________\n",
      "block3_conv1 (Conv2D)        (None, 16, 16, 256)       295168    \n",
      "_________________________________________________________________\n",
      "block3_conv2 (Conv2D)        (None, 16, 16, 256)       590080    \n",
      "_________________________________________________________________\n",
      "block3_conv3 (Conv2D)        (None, 16, 16, 256)       590080    \n",
      "_________________________________________________________________\n",
      "block3_pool (MaxPooling2D)   (None, 8, 8, 256)         0         \n",
      "_________________________________________________________________\n",
      "block4_conv1 (Conv2D)        (None, 8, 8, 512)         1180160   \n",
      "_________________________________________________________________\n",
      "block4_conv2 (Conv2D)        (None, 8, 8, 512)         2359808   \n",
      "_________________________________________________________________\n",
      "block4_conv3 (Conv2D)        (None, 8, 8, 512)         2359808   \n",
      "_________________________________________________________________\n",
      "block4_pool (MaxPooling2D)   (None, 4, 4, 512)         0         \n",
      "_________________________________________________________________\n",
      "block5_conv1 (Conv2D)        (None, 4, 4, 512)         2359808   \n",
      "_________________________________________________________________\n",
      "block5_conv2 (Conv2D)        (None, 4, 4, 512)         2359808   \n",
      "_________________________________________________________________\n",
      "block5_conv3 (Conv2D)        (None, 4, 4, 512)         2359808   \n",
      "_________________________________________________________________\n",
      "block5_pool (MaxPooling2D)   (None, 2, 2, 512)         0         \n",
      "_________________________________________________________________\n",
      "flatten_5 (Flatten)          (None, 2048)              0         \n",
      "_________________________________________________________________\n",
      "dense_11 (Dense)             (None, 3)                 6147      \n",
      "=================================================================\n",
      "Total params: 14,720,835\n",
      "Trainable params: 6,147\n",
      "Non-trainable params: 14,714,688\n",
      "_________________________________________________________________\n"
     ]
    }
   ],
   "source": [
    "model.summary()"
   ]
  },
  {
   "cell_type": "code",
   "execution_count": 57,
   "metadata": {},
   "outputs": [
    {
     "name": "stdout",
     "output_type": "stream",
     "text": [
      "Epoch 1/100\n",
      "22/22 [==============================] - 65s 3s/step - loss: 0.6348 - accuracy: 0.7852 - val_loss: 0.5391 - val_accuracy: 0.7868\n",
      "Epoch 2/100\n",
      "22/22 [==============================] - 70s 3s/step - loss: 0.5351 - accuracy: 0.8278 - val_loss: 0.5148 - val_accuracy: 0.7706\n",
      "Epoch 3/100\n",
      "22/22 [==============================] - 68s 3s/step - loss: 0.4836 - accuracy: 0.8409 - val_loss: 0.4668 - val_accuracy: 0.8174\n",
      "Epoch 4/100\n",
      "22/22 [==============================] - 65s 3s/step - loss: 0.4477 - accuracy: 0.8503 - val_loss: 0.4847 - val_accuracy: 0.7746\n",
      "Epoch 5/100\n",
      "22/22 [==============================] - 63s 3s/step - loss: 0.4166 - accuracy: 0.8626 - val_loss: 0.4402 - val_accuracy: 0.8069\n",
      "Epoch 6/100\n",
      "22/22 [==============================] - 64s 3s/step - loss: 0.3909 - accuracy: 0.8665 - val_loss: 0.4607 - val_accuracy: 0.7981\n",
      "Epoch 7/100\n",
      "22/22 [==============================] - 65s 3s/step - loss: 0.3792 - accuracy: 0.8778 - val_loss: 0.4397 - val_accuracy: 0.8094\n",
      "Epoch 8/100\n",
      "22/22 [==============================] - 64s 3s/step - loss: 0.3650 - accuracy: 0.8731 - val_loss: 0.4241 - val_accuracy: 0.8223\n",
      "Epoch 9/100\n",
      "22/22 [==============================] - 64s 3s/step - loss: 0.3565 - accuracy: 0.8825 - val_loss: 0.4086 - val_accuracy: 0.8328\n",
      "Epoch 10/100\n",
      "22/22 [==============================] - 65s 3s/step - loss: 0.3424 - accuracy: 0.8846 - val_loss: 0.4480 - val_accuracy: 0.8102\n",
      "Epoch 11/100\n",
      "22/22 [==============================] - 64s 3s/step - loss: 0.3395 - accuracy: 0.8796 - val_loss: 0.4226 - val_accuracy: 0.8231\n",
      "Epoch 12/100\n",
      "22/22 [==============================] - 65s 3s/step - loss: 0.3233 - accuracy: 0.8881 - val_loss: 0.4010 - val_accuracy: 0.8288\n",
      "Epoch 13/100\n",
      "22/22 [==============================] - 65s 3s/step - loss: 0.3313 - accuracy: 0.8882 - val_loss: 0.4017 - val_accuracy: 0.8279\n",
      "Epoch 14/100\n",
      "22/22 [==============================] - 65s 3s/step - loss: 0.3193 - accuracy: 0.8904 - val_loss: 0.4123 - val_accuracy: 0.8247\n",
      "Epoch 15/100\n",
      "22/22 [==============================] - 65s 3s/step - loss: 0.3131 - accuracy: 0.8940 - val_loss: 0.4239 - val_accuracy: 0.8174\n",
      "Epoch 16/100\n",
      "22/22 [==============================] - 65s 3s/step - loss: 0.2968 - accuracy: 0.9067 - val_loss: 0.4371 - val_accuracy: 0.8158\n",
      "Epoch 17/100\n",
      "22/22 [==============================] - 65s 3s/step - loss: 0.3069 - accuracy: 0.8922 - val_loss: 0.4287 - val_accuracy: 0.8191\n",
      "Epoch 18/100\n",
      "22/22 [==============================] - 65s 3s/step - loss: 0.2986 - accuracy: 0.9024 - val_loss: 0.4062 - val_accuracy: 0.8263\n",
      "Epoch 19/100\n",
      "22/22 [==============================] - 65s 3s/step - loss: 0.2867 - accuracy: 0.9024 - val_loss: 0.4164 - val_accuracy: 0.8231\n",
      "Epoch 20/100\n",
      "22/22 [==============================] - 67s 3s/step - loss: 0.2938 - accuracy: 0.8958 - val_loss: 0.4359 - val_accuracy: 0.8118\n",
      "Epoch 21/100\n",
      "22/22 [==============================] - 64s 3s/step - loss: 0.2843 - accuracy: 0.9020 - val_loss: 0.4415 - val_accuracy: 0.8142\n",
      "Epoch 22/100\n",
      "22/22 [==============================] - 65s 3s/step - loss: 0.2865 - accuracy: 0.9024 - val_loss: 0.3819 - val_accuracy: 0.8384\n",
      "Epoch 23/100\n",
      "22/22 [==============================] - 66s 3s/step - loss: 0.2829 - accuracy: 0.9042 - val_loss: 0.4169 - val_accuracy: 0.8231\n",
      "Epoch 24/100\n",
      "22/22 [==============================] - 64s 3s/step - loss: 0.2763 - accuracy: 0.9009 - val_loss: 0.4371 - val_accuracy: 0.8158\n",
      "Epoch 25/100\n",
      "22/22 [==============================] - 65s 3s/step - loss: 0.2688 - accuracy: 0.9056 - val_loss: 0.3999 - val_accuracy: 0.8288\n",
      "Epoch 26/100\n",
      "22/22 [==============================] - 65s 3s/step - loss: 0.2662 - accuracy: 0.9107 - val_loss: 0.3973 - val_accuracy: 0.8312\n",
      "Epoch 27/100\n",
      "22/22 [==============================] - 65s 3s/step - loss: 0.2711 - accuracy: 0.9121 - val_loss: 0.3849 - val_accuracy: 0.8368\n",
      "Epoch 28/100\n",
      "22/22 [==============================] - 65s 3s/step - loss: 0.2645 - accuracy: 0.9063 - val_loss: 0.3936 - val_accuracy: 0.8328\n",
      "Epoch 29/100\n",
      "22/22 [==============================] - 65s 3s/step - loss: 0.2646 - accuracy: 0.9128 - val_loss: 0.3864 - val_accuracy: 0.8393\n",
      "Epoch 30/100\n",
      "22/22 [==============================] - 65s 3s/step - loss: 0.2619 - accuracy: 0.9078 - val_loss: 0.3588 - val_accuracy: 0.8514\n",
      "Epoch 31/100\n",
      "22/22 [==============================] - 64s 3s/step - loss: 0.2606 - accuracy: 0.9067 - val_loss: 0.3649 - val_accuracy: 0.8481\n",
      "Epoch 32/100\n",
      "22/22 [==============================] - 65s 3s/step - loss: 0.2606 - accuracy: 0.9078 - val_loss: 0.3981 - val_accuracy: 0.8376\n",
      "Epoch 33/100\n",
      "22/22 [==============================] - 65s 3s/step - loss: 0.2598 - accuracy: 0.9071 - val_loss: 0.4303 - val_accuracy: 0.8183\n",
      "Epoch 34/100\n",
      "22/22 [==============================] - 65s 3s/step - loss: 0.2577 - accuracy: 0.9063 - val_loss: 0.3294 - val_accuracy: 0.8748\n",
      "Epoch 35/100\n",
      "22/22 [==============================] - 65s 3s/step - loss: 0.2447 - accuracy: 0.9168 - val_loss: 0.3522 - val_accuracy: 0.8643\n",
      "Epoch 36/100\n",
      "22/22 [==============================] - 65s 3s/step - loss: 0.2523 - accuracy: 0.9139 - val_loss: 0.3476 - val_accuracy: 0.8611\n",
      "Epoch 37/100\n",
      "22/22 [==============================] - 66s 3s/step - loss: 0.2406 - accuracy: 0.9143 - val_loss: 0.3692 - val_accuracy: 0.8498\n",
      "Epoch 38/100\n",
      "22/22 [==============================] - 64s 3s/step - loss: 0.2496 - accuracy: 0.9121 - val_loss: 0.3760 - val_accuracy: 0.8489\n",
      "Epoch 39/100\n",
      "22/22 [==============================] - 65s 3s/step - loss: 0.2431 - accuracy: 0.9175 - val_loss: 0.3707 - val_accuracy: 0.8498\n",
      "Epoch 40/100\n",
      "22/22 [==============================] - 65s 3s/step - loss: 0.2501 - accuracy: 0.9128 - val_loss: 0.4276 - val_accuracy: 0.8191\n",
      "Epoch 41/100\n",
      "22/22 [==============================] - 65s 3s/step - loss: 0.2435 - accuracy: 0.9132 - val_loss: 0.3710 - val_accuracy: 0.8473\n",
      "Epoch 42/100\n",
      "22/22 [==============================] - 65s 3s/step - loss: 0.2345 - accuracy: 0.9222 - val_loss: 0.3663 - val_accuracy: 0.8562\n",
      "Epoch 43/100\n",
      "22/22 [==============================] - 65s 3s/step - loss: 0.2410 - accuracy: 0.9168 - val_loss: 0.3397 - val_accuracy: 0.8643\n",
      "Epoch 44/100\n",
      "22/22 [==============================] - 65s 3s/step - loss: 0.2392 - accuracy: 0.9168 - val_loss: 0.3693 - val_accuracy: 0.8522\n",
      "Epoch 45/100\n",
      "22/22 [==============================] - 65s 3s/step - loss: 0.2333 - accuracy: 0.9251 - val_loss: 0.3794 - val_accuracy: 0.8409\n",
      "Epoch 46/100\n",
      "22/22 [==============================] - 65s 3s/step - loss: 0.2231 - accuracy: 0.9219 - val_loss: 0.3665 - val_accuracy: 0.8530\n",
      "Epoch 47/100\n",
      "22/22 [==============================] - 66s 3s/step - loss: 0.2352 - accuracy: 0.9179 - val_loss: 0.3823 - val_accuracy: 0.8409\n",
      "Epoch 48/100\n",
      "22/22 [==============================] - 65s 3s/step - loss: 0.2335 - accuracy: 0.9226 - val_loss: 0.3997 - val_accuracy: 0.8279\n",
      "Epoch 49/100\n",
      "22/22 [==============================] - 66s 3s/step - loss: 0.2391 - accuracy: 0.9186 - val_loss: 0.3792 - val_accuracy: 0.8481\n",
      "Epoch 50/100\n",
      "22/22 [==============================] - 66s 3s/step - loss: 0.2344 - accuracy: 0.9179 - val_loss: 0.3794 - val_accuracy: 0.8449\n",
      "Epoch 51/100\n",
      "22/22 [==============================] - 65s 3s/step - loss: 0.2334 - accuracy: 0.9248 - val_loss: 0.3940 - val_accuracy: 0.8384\n",
      "Epoch 52/100\n",
      "22/22 [==============================] - 66s 3s/step - loss: 0.2273 - accuracy: 0.9244 - val_loss: 0.3435 - val_accuracy: 0.8643\n",
      "Epoch 53/100\n",
      "22/22 [==============================] - 66s 3s/step - loss: 0.2295 - accuracy: 0.9172 - val_loss: 0.3556 - val_accuracy: 0.8570\n",
      "Epoch 54/100\n",
      "22/22 [==============================] - 65s 3s/step - loss: 0.2303 - accuracy: 0.9183 - val_loss: 0.3464 - val_accuracy: 0.8619\n",
      "Epoch 55/100\n",
      "22/22 [==============================] - 65s 3s/step - loss: 0.2347 - accuracy: 0.9168 - val_loss: 0.3564 - val_accuracy: 0.8570\n",
      "Epoch 56/100\n",
      "22/22 [==============================] - 66s 3s/step - loss: 0.2183 - accuracy: 0.9212 - val_loss: 0.3728 - val_accuracy: 0.8506\n",
      "Epoch 57/100\n",
      "22/22 [==============================] - 65s 3s/step - loss: 0.2247 - accuracy: 0.9204 - val_loss: 0.3366 - val_accuracy: 0.8740\n",
      "Epoch 58/100\n",
      "22/22 [==============================] - 66s 3s/step - loss: 0.2340 - accuracy: 0.9215 - val_loss: 0.3488 - val_accuracy: 0.8619\n"
     ]
    },
    {
     "name": "stdout",
     "output_type": "stream",
     "text": [
      "Epoch 59/100\n",
      "22/22 [==============================] - 65s 3s/step - loss: 0.2345 - accuracy: 0.9175 - val_loss: 0.3518 - val_accuracy: 0.8611\n",
      "Epoch 60/100\n",
      "22/22 [==============================] - 65s 3s/step - loss: 0.2323 - accuracy: 0.9161 - val_loss: 0.3566 - val_accuracy: 0.8570\n",
      "Epoch 61/100\n",
      "22/22 [==============================] - 65s 3s/step - loss: 0.2213 - accuracy: 0.9251 - val_loss: 0.3621 - val_accuracy: 0.8530\n",
      "Epoch 62/100\n",
      "22/22 [==============================] - 65s 3s/step - loss: 0.2213 - accuracy: 0.9248 - val_loss: 0.3820 - val_accuracy: 0.8433\n",
      "Epoch 63/100\n",
      "22/22 [==============================] - 65s 3s/step - loss: 0.2259 - accuracy: 0.9165 - val_loss: 0.3712 - val_accuracy: 0.8457\n",
      "Epoch 64/100\n",
      "22/22 [==============================] - 67s 3s/step - loss: 0.2256 - accuracy: 0.9222 - val_loss: 0.3235 - val_accuracy: 0.8821\n",
      "Epoch 65/100\n",
      "22/22 [==============================] - 66s 3s/step - loss: 0.2114 - accuracy: 0.9265 - val_loss: 0.3730 - val_accuracy: 0.8465\n",
      "Epoch 66/100\n",
      "22/22 [==============================] - 66s 3s/step - loss: 0.2235 - accuracy: 0.9215 - val_loss: 0.3707 - val_accuracy: 0.8441\n",
      "Epoch 67/100\n",
      "22/22 [==============================] - 66s 3s/step - loss: 0.2201 - accuracy: 0.9251 - val_loss: 0.3727 - val_accuracy: 0.8489\n",
      "Epoch 68/100\n",
      "22/22 [==============================] - 66s 3s/step - loss: 0.2241 - accuracy: 0.9244 - val_loss: 0.3472 - val_accuracy: 0.8635\n",
      "Epoch 69/100\n",
      "22/22 [==============================] - 66s 3s/step - loss: 0.2193 - accuracy: 0.9230 - val_loss: 0.3604 - val_accuracy: 0.8538\n",
      "Epoch 70/100\n",
      "22/22 [==============================] - 65s 3s/step - loss: 0.2144 - accuracy: 0.9313 - val_loss: 0.3744 - val_accuracy: 0.8498\n",
      "Epoch 71/100\n",
      "22/22 [==============================] - 66s 3s/step - loss: 0.2085 - accuracy: 0.9237 - val_loss: 0.3270 - val_accuracy: 0.8740\n",
      "Epoch 72/100\n",
      "22/22 [==============================] - 65s 3s/step - loss: 0.2159 - accuracy: 0.9204 - val_loss: 0.3271 - val_accuracy: 0.8772\n",
      "Epoch 73/100\n",
      "22/22 [==============================] - 65s 3s/step - loss: 0.2225 - accuracy: 0.9226 - val_loss: 0.4413 - val_accuracy: 0.8158\n",
      "Epoch 74/100\n",
      "22/22 [==============================] - 65s 3s/step - loss: 0.2137 - accuracy: 0.9288 - val_loss: 0.3563 - val_accuracy: 0.8530\n",
      "Epoch 75/100\n",
      "22/22 [==============================] - 65s 3s/step - loss: 0.2042 - accuracy: 0.9309 - val_loss: 0.3217 - val_accuracy: 0.8821\n",
      "Epoch 76/100\n",
      "22/22 [==============================] - 65s 3s/step - loss: 0.2049 - accuracy: 0.9335 - val_loss: 0.3663 - val_accuracy: 0.8489\n",
      "Epoch 77/100\n",
      "22/22 [==============================] - 66s 3s/step - loss: 0.2113 - accuracy: 0.9262 - val_loss: 0.3354 - val_accuracy: 0.8732\n",
      "Epoch 78/100\n",
      "22/22 [==============================] - 65s 3s/step - loss: 0.2044 - accuracy: 0.9338 - val_loss: 0.3508 - val_accuracy: 0.8619\n",
      "Epoch 79/100\n",
      "22/22 [==============================] - 66s 3s/step - loss: 0.2016 - accuracy: 0.9327 - val_loss: 0.3859 - val_accuracy: 0.8401\n",
      "Epoch 80/100\n",
      "22/22 [==============================] - 89s 4s/step - loss: 0.2016 - accuracy: 0.9306 - val_loss: 0.3685 - val_accuracy: 0.8522\n",
      "Epoch 81/100\n",
      "22/22 [==============================] - 66s 3s/step - loss: 0.2026 - accuracy: 0.9316 - val_loss: 0.3476 - val_accuracy: 0.8659\n",
      "Epoch 82/100\n",
      "22/22 [==============================] - 67s 3s/step - loss: 0.2067 - accuracy: 0.9313 - val_loss: 0.3380 - val_accuracy: 0.8732\n",
      "Epoch 83/100\n",
      "22/22 [==============================] - 65s 3s/step - loss: 0.2144 - accuracy: 0.9255 - val_loss: 0.3537 - val_accuracy: 0.8675\n",
      "Epoch 84/100\n",
      "22/22 [==============================] - 66s 3s/step - loss: 0.2098 - accuracy: 0.9284 - val_loss: 0.3592 - val_accuracy: 0.8643\n",
      "Epoch 85/100\n",
      "22/22 [==============================] - 65s 3s/step - loss: 0.2098 - accuracy: 0.9248 - val_loss: 0.3246 - val_accuracy: 0.8813\n",
      "Epoch 86/100\n",
      "22/22 [==============================] - 65s 3s/step - loss: 0.2137 - accuracy: 0.9251 - val_loss: 0.4026 - val_accuracy: 0.8368\n",
      "Epoch 87/100\n",
      "22/22 [==============================] - 66s 3s/step - loss: 0.2108 - accuracy: 0.9320 - val_loss: 0.4303 - val_accuracy: 0.8239\n",
      "Epoch 88/100\n",
      "22/22 [==============================] - 66s 3s/step - loss: 0.2045 - accuracy: 0.9283 - val_loss: 0.3937 - val_accuracy: 0.8417\n",
      "Epoch 89/100\n",
      "22/22 [==============================] - 66s 3s/step - loss: 0.2148 - accuracy: 0.9226 - val_loss: 0.3485 - val_accuracy: 0.8627\n",
      "Epoch 90/100\n",
      "22/22 [==============================] - 65s 3s/step - loss: 0.2127 - accuracy: 0.9306 - val_loss: 0.3632 - val_accuracy: 0.8659\n",
      "Epoch 91/100\n",
      "22/22 [==============================] - 65s 3s/step - loss: 0.1999 - accuracy: 0.9335 - val_loss: 0.3673 - val_accuracy: 0.8522\n",
      "Epoch 92/100\n",
      "22/22 [==============================] - 66s 3s/step - loss: 0.2052 - accuracy: 0.9302 - val_loss: 0.4125 - val_accuracy: 0.8312\n",
      "Epoch 93/100\n",
      "22/22 [==============================] - 66s 3s/step - loss: 0.2078 - accuracy: 0.9313 - val_loss: 0.4293 - val_accuracy: 0.8247\n",
      "Epoch 94/100\n",
      "22/22 [==============================] - 864s 39s/step - loss: 0.2038 - accuracy: 0.9306 - val_loss: 0.3722 - val_accuracy: 0.8506\n",
      "Epoch 95/100\n",
      "22/22 [==============================] - 65s 3s/step - loss: 0.2102 - accuracy: 0.9302 - val_loss: 0.3488 - val_accuracy: 0.8700\n",
      "Epoch 96/100\n",
      "22/22 [==============================] - 65s 3s/step - loss: 0.1931 - accuracy: 0.9363 - val_loss: 0.3741 - val_accuracy: 0.8530\n",
      "Epoch 97/100\n",
      "22/22 [==============================] - 65s 3s/step - loss: 0.1940 - accuracy: 0.9309 - val_loss: 0.3258 - val_accuracy: 0.8780\n",
      "Epoch 98/100\n",
      "22/22 [==============================] - 66s 3s/step - loss: 0.2116 - accuracy: 0.9230 - val_loss: 0.3363 - val_accuracy: 0.8772\n",
      "Epoch 99/100\n",
      "22/22 [==============================] - 65s 3s/step - loss: 0.2117 - accuracy: 0.9262 - val_loss: 0.3981 - val_accuracy: 0.8352\n",
      "Epoch 100/100\n",
      "22/22 [==============================] - 65s 3s/step - loss: 0.1940 - accuracy: 0.9378 - val_loss: 0.3526 - val_accuracy: 0.8595\n"
     ]
    }
   ],
   "source": [
    "total_sample= train_generator.n\n",
    "total_test=test_generator.n\n",
    "batch_size=128\n",
    "\n",
    "\n",
    "\n",
    "history= model.fit_generator(\n",
    "            train_generator, steps_per_epoch=int(total_sample/batch_size),\n",
    "            epochs=100,\n",
    "            validation_data=test_generator,\n",
    "            validation_steps=int(total_test/batch_size))"
   ]
  },
  {
   "cell_type": "code",
   "execution_count": 58,
   "metadata": {},
   "outputs": [],
   "source": [
    "# Save Model-save weights\n",
    "classifier.save(\"model_4tf_vgg16.h5\")"
   ]
  },
  {
   "cell_type": "code",
   "execution_count": 59,
   "metadata": {},
   "outputs": [
    {
     "name": "stdout",
     "output_type": "stream",
     "text": [
      "23/23 [==============================] - 46s 2s/step - loss: 0.2051 - accuracy: 0.9246\n",
      "\n",
      " Train Accuracy: 0.924645721912384\n",
      "\n",
      " Train Loss: 0.2051084190607071\n"
     ]
    }
   ],
   "source": [
    "# Train loss/ Train Accuracy\n",
    "train_loss, train_acc = model.evaluate(train_generator)\n",
    "print(\"\\n Train Accuracy:\", train_acc)\n",
    "print(\"\\n Train Loss:\", train_loss)"
   ]
  },
  {
   "cell_type": "code",
   "execution_count": 60,
   "metadata": {},
   "outputs": [
    {
     "name": "stdout",
     "output_type": "stream",
     "text": [
      "10/10 [==============================] - 18s 2s/step - loss: 0.3526 - accuracy: 0.8595\n",
      "\n",
      " Test Accuracy: 0.8594506978988647\n",
      "\n",
      " Test Loss: 0.3526388108730316\n"
     ]
    }
   ],
   "source": [
    "# Test Loss/ Test Accuracy\n",
    "test_loss, test_acc= model.evaluate(test_generator)\n",
    "print(\"\\n Test Accuracy:\", test_acc)\n",
    "print(\"\\n Test Loss:\", test_loss)"
   ]
  },
  {
   "cell_type": "code",
   "execution_count": 61,
   "metadata": {},
   "outputs": [
    {
     "data": {
      "text/plain": [
       "['loss', 'accuracy']"
      ]
     },
     "execution_count": 61,
     "metadata": {},
     "output_type": "execute_result"
    }
   ],
   "source": [
    "model.metrics_names"
   ]
  },
  {
   "cell_type": "code",
   "execution_count": 62,
   "metadata": {},
   "outputs": [
    {
     "data": {
      "image/png": "[encoded data removed]",
      "text/plain": [
       "<Figure size 432x288 with 1 Axes>"
      ]
     },
     "metadata": {
      "needs_background": "light"
     },
     "output_type": "display_data"
    }
   ],
   "source": [
    "# PLOT ACCURACY\n",
    "plt.plot(history.history['accuracy'])\n",
    "plt.plot(history.history['val_accuracy'])\n",
    "plt.title('Model 3 Accuracy per Epoch')\n",
    "plt.ylabel('accuracy')\n",
    "plt.xlabel('epoch')\n",
    "plt.legend(['train', 'test'], loc='lower center')\n",
    "plt.show()"
   ]
  },
  {
   "cell_type": "code",
   "execution_count": 63,
   "metadata": {},
   "outputs": [
    {
     "data": {
      "image/png": "[encoded data removed]",
      "text/plain": [
       "<Figure size 432x288 with 1 Axes>"
      ]
     },
     "metadata": {
      "needs_background": "light"
     },
     "output_type": "display_data"
    }
   ],
   "source": [
    "# PLOT LOSS\n",
    "plt.plot(history.history['loss'])\n",
    "plt.plot(history.history['val_loss'])\n",
    "plt.title('Model 3 Accuracy per Epoch')\n",
    "plt.ylabel('loss')\n",
    "plt.xlabel('epoch')\n",
    "plt.legend(['train', 'test'], loc='lower center')\n",
    "plt.show()"
   ]
  },
  {
   "cell_type": "code",
   "execution_count": 64,
   "metadata": {},
   "outputs": [],
   "source": [
    "# Save history of model into csv\n",
    "hist_df4 = pd.DataFrame(history.history) \n",
    "\n",
    "# or save to csv: \n",
    "hist_csv_file = 'history4_tf_vgg16.csv'\n",
    "with open(hist_csv_file, mode='w') as f:\n",
    "    hist_df4.to_csv(f)"
   ]
  },
  {
   "cell_type": "markdown",
   "metadata": {},
   "source": [
    "## Model 5-Transfer Learning\n",
    "### Same as Model 4 but at 200 epochs "
   ]
  },
  {
   "cell_type": "code",
   "execution_count": 7,
   "metadata": {},
   "outputs": [
    {
     "name": "stdout",
     "output_type": "stream",
     "text": [
      "Found 2893 images belonging to 3 classes.\n",
      "Found 1238 images belonging to 3 classes.\n"
     ]
    }
   ],
   "source": [
    "# Model 5- Transfer Learning\n",
    "data_dir = \"Database/\"\n",
    "batch_size=128\n",
    "\n",
    "# Rescale images \n",
    "datagen= ImageDataGenerator(rescale=1/255,validation_split=.3,rotation_range=20,\n",
    "                           shear_range=.2,width_shift_range=0.1,height_shift_range=0.1,zoom_range=0.2,\n",
    "                           preprocessing_function=preprocess_input)\n",
    "\n",
    "# Flow training images in batches of 128 using train_data \n",
    "train_generator= datagen.flow_from_directory(\n",
    "                data_dir,\n",
    "                target_size=(64,64),\n",
    "                batch_size=batch_size,\n",
    "                subset=\"training\",\n",
    "                class_mode=\"categorical\", \n",
    "                classes= [\"COVID19\", \"NORMAL\",\"Viral_Pneumonia\"],\n",
    "                shuffle=True, seed=30)\n",
    "\n",
    "\n",
    "datagen2=ImageDataGenerator(rescale=1/255,validation_split=.3,\n",
    "                            preprocessing_function=preprocess_input)\n",
    "\n",
    "test_generator=datagen2.flow_from_directory(\n",
    "                data_dir,\n",
    "                target_size=(64,64),\n",
    "                batch_size=batch_size,\n",
    "                classes= [\"COVID19\", \"NORMAL\",\"Viral_Pneumonia\"],\n",
    "                class_mode=\"categorical\", subset=\"validation\", shuffle=True, seed=30)"
   ]
  },
  {
   "cell_type": "code",
   "execution_count": 8,
   "metadata": {},
   "outputs": [],
   "source": [
    "datagen= ImageDataGenerator(rescale=1/255,validation_split=.3)\n",
    "\n",
    "# classifier=VGG16(weights=\"imagenet\", include_top=False, input_shape=(64,64,3))\n",
    "\n",
    "\n",
    "# x=Flatten()(classifier.output)\n",
    "# x=Dense(3, activation=\"softmax\")(x)\n",
    "\n",
    "\n",
    "classifier = VGG16(weights=\"imagenet\", include_top=False, input_tensor=Input(shape=(64, 64, 3)))\n",
    "\n",
    "x = classifier.output\n",
    "# x = AveragePooling2D(pool_size=(2, 2))(x)\n",
    "x = Flatten(name=\"flatten\")(x)\n",
    "# x = Dense(128, activation=\"relu\")(x)\n",
    "# x = Dropout(0.6)(x)\n",
    "x = Dense(3, activation=\"softmax\")(x)\n",
    "\n",
    "for layer in classifier.layers:\n",
    "    layer.trainable=False\n",
    "\n",
    "model=Model(inputs=classifier.input, outputs=x)\n",
    "model.compile(loss=\"categorical_crossentropy\", optimizer=\"adam\",metrics=[\"accuracy\"])"
   ]
  },
  {
   "cell_type": "code",
   "execution_count": 9,
   "metadata": {},
   "outputs": [
    {
     "name": "stdout",
     "output_type": "stream",
     "text": [
      "WARNING:tensorflow:From <ipython-input-9-f02657650cd6>:11: Model.fit_generator (from tensorflow.python.keras.engine.training) is deprecated and will be removed in a future version.\n",
      "Instructions for updating:\n",
      "Please use Model.fit, which supports generators.\n",
      "Epoch 1/200\n",
      "22/22 [==============================] - 66s 3s/step - loss: 0.8791 - accuracy: 0.6434 - val_loss: 0.6492 - val_accuracy: 0.7413\n",
      "Epoch 2/200\n",
      "22/22 [==============================] - 68s 3s/step - loss: 0.5934 - accuracy: 0.8069 - val_loss: 0.5272 - val_accuracy: 0.7674\n",
      "Epoch 3/200\n",
      "22/22 [==============================] - 67s 3s/step - loss: 0.5140 - accuracy: 0.8300 - val_loss: 0.5362 - val_accuracy: 0.7431\n",
      "Epoch 4/200\n",
      "22/22 [==============================] - 68s 3s/step - loss: 0.4470 - accuracy: 0.8514 - val_loss: 0.5208 - val_accuracy: 0.7491\n",
      "Epoch 5/200\n",
      "22/22 [==============================] - 70s 3s/step - loss: 0.4162 - accuracy: 0.8604 - val_loss: 0.4892 - val_accuracy: 0.7639\n",
      "Epoch 6/200\n",
      "22/22 [==============================] - 67s 3s/step - loss: 0.4001 - accuracy: 0.8590 - val_loss: 0.4792 - val_accuracy: 0.7839\n",
      "Epoch 7/200\n",
      "22/22 [==============================] - 69s 3s/step - loss: 0.3743 - accuracy: 0.8709 - val_loss: 0.4506 - val_accuracy: 0.7960\n",
      "Epoch 8/200\n",
      "22/22 [==============================] - 67s 3s/step - loss: 0.3658 - accuracy: 0.8727 - val_loss: 0.4589 - val_accuracy: 0.7865\n",
      "Epoch 9/200\n",
      "22/22 [==============================] - 65s 3s/step - loss: 0.3506 - accuracy: 0.8814 - val_loss: 0.4716 - val_accuracy: 0.7821\n",
      "Epoch 10/200\n",
      "22/22 [==============================] - 70s 3s/step - loss: 0.3473 - accuracy: 0.8861 - val_loss: 0.4244 - val_accuracy: 0.8116\n",
      "Epoch 11/200\n",
      "22/22 [==============================] - 69s 3s/step - loss: 0.3305 - accuracy: 0.8850 - val_loss: 0.4641 - val_accuracy: 0.7951\n",
      "Epoch 12/200\n",
      "22/22 [==============================] - 67s 3s/step - loss: 0.3276 - accuracy: 0.8803 - val_loss: 0.4673 - val_accuracy: 0.7943\n",
      "Epoch 13/200\n",
      "22/22 [==============================] - 65s 3s/step - loss: 0.3162 - accuracy: 0.8882 - val_loss: 0.4952 - val_accuracy: 0.7778\n",
      "Epoch 14/200\n",
      "22/22 [==============================] - 65s 3s/step - loss: 0.3132 - accuracy: 0.8868 - val_loss: 0.4125 - val_accuracy: 0.8177\n",
      "Epoch 15/200\n",
      "22/22 [==============================] - 65s 3s/step - loss: 0.3118 - accuracy: 0.8882 - val_loss: 0.3690 - val_accuracy: 0.8438\n",
      "Epoch 16/200\n",
      "22/22 [==============================] - 64s 3s/step - loss: 0.3093 - accuracy: 0.8933 - val_loss: 0.4033 - val_accuracy: 0.8212\n",
      "Epoch 17/200\n",
      "22/22 [==============================] - 66s 3s/step - loss: 0.3002 - accuracy: 0.8854 - val_loss: 0.4166 - val_accuracy: 0.8125\n",
      "Epoch 18/200\n",
      "22/22 [==============================] - 65s 3s/step - loss: 0.2890 - accuracy: 0.8937 - val_loss: 0.4323 - val_accuracy: 0.8116\n",
      "Epoch 19/200\n",
      "22/22 [==============================] - 65s 3s/step - loss: 0.2733 - accuracy: 0.9067 - val_loss: 0.4145 - val_accuracy: 0.8134\n",
      "Epoch 20/200\n",
      "22/22 [==============================] - 67s 3s/step - loss: 0.2971 - accuracy: 0.8955 - val_loss: 0.3853 - val_accuracy: 0.8333\n",
      "Epoch 21/200\n",
      "22/22 [==============================] - 66s 3s/step - loss: 0.2709 - accuracy: 0.9067 - val_loss: 0.4341 - val_accuracy: 0.8142\n",
      "Epoch 22/200\n",
      "22/22 [==============================] - 66s 3s/step - loss: 0.2767 - accuracy: 0.9045 - val_loss: 0.4101 - val_accuracy: 0.8151\n",
      "Epoch 23/200\n",
      "22/22 [==============================] - 66s 3s/step - loss: 0.2779 - accuracy: 0.9042 - val_loss: 0.4327 - val_accuracy: 0.8090\n",
      "Epoch 24/200\n",
      "22/22 [==============================] - 65s 3s/step - loss: 0.2633 - accuracy: 0.9146 - val_loss: 0.4460 - val_accuracy: 0.7995\n",
      "Epoch 25/200\n",
      "22/22 [==============================] - 66s 3s/step - loss: 0.2741 - accuracy: 0.9027 - val_loss: 0.4059 - val_accuracy: 0.8212\n",
      "Epoch 26/200\n",
      "22/22 [==============================] - 65s 3s/step - loss: 0.2625 - accuracy: 0.9067 - val_loss: 0.4085 - val_accuracy: 0.8238\n",
      "Epoch 27/200\n",
      "22/22 [==============================] - 65s 3s/step - loss: 0.2605 - accuracy: 0.9071 - val_loss: 0.3708 - val_accuracy: 0.8411\n",
      "Epoch 28/200\n",
      "22/22 [==============================] - 66s 3s/step - loss: 0.2530 - accuracy: 0.9150 - val_loss: 0.3620 - val_accuracy: 0.8507\n",
      "Epoch 29/200\n",
      "22/22 [==============================] - 65s 3s/step - loss: 0.2598 - accuracy: 0.9092 - val_loss: 0.3831 - val_accuracy: 0.8368\n",
      "Epoch 30/200\n",
      "22/22 [==============================] - 65s 3s/step - loss: 0.2638 - accuracy: 0.9074 - val_loss: 0.3879 - val_accuracy: 0.8377\n",
      "Epoch 31/200\n",
      "22/22 [==============================] - 65s 3s/step - loss: 0.2505 - accuracy: 0.9139 - val_loss: 0.3799 - val_accuracy: 0.8429\n",
      "Epoch 32/200\n",
      "22/22 [==============================] - 65s 3s/step - loss: 0.2509 - accuracy: 0.9081 - val_loss: 0.4173 - val_accuracy: 0.8238\n",
      "Epoch 33/200\n",
      "22/22 [==============================] - 64s 3s/step - loss: 0.2559 - accuracy: 0.9027 - val_loss: 0.3639 - val_accuracy: 0.8420\n",
      "Epoch 34/200\n",
      "22/22 [==============================] - 66s 3s/step - loss: 0.2435 - accuracy: 0.9143 - val_loss: 0.4062 - val_accuracy: 0.8281\n",
      "Epoch 35/200\n",
      "22/22 [==============================] - 65s 3s/step - loss: 0.2496 - accuracy: 0.9161 - val_loss: 0.3783 - val_accuracy: 0.8411\n",
      "Epoch 36/200\n",
      "22/22 [==============================] - 65s 3s/step - loss: 0.2594 - accuracy: 0.9119 - val_loss: 0.3948 - val_accuracy: 0.8255\n",
      "Epoch 37/200\n",
      "22/22 [==============================] - 65s 3s/step - loss: 0.2472 - accuracy: 0.9143 - val_loss: 0.3656 - val_accuracy: 0.8481\n",
      "Epoch 38/200\n",
      "22/22 [==============================] - 65s 3s/step - loss: 0.2379 - accuracy: 0.9165 - val_loss: 0.3922 - val_accuracy: 0.8316\n",
      "Epoch 39/200\n",
      "22/22 [==============================] - 65s 3s/step - loss: 0.2378 - accuracy: 0.9150 - val_loss: 0.3881 - val_accuracy: 0.8359\n",
      "Epoch 40/200\n",
      "22/22 [==============================] - 65s 3s/step - loss: 0.2373 - accuracy: 0.9193 - val_loss: 0.4022 - val_accuracy: 0.8290\n",
      "Epoch 41/200\n",
      "22/22 [==============================] - 65s 3s/step - loss: 0.2389 - accuracy: 0.9183 - val_loss: 0.3370 - val_accuracy: 0.8620\n",
      "Epoch 42/200\n",
      "22/22 [==============================] - 65s 3s/step - loss: 0.2351 - accuracy: 0.9201 - val_loss: 0.4113 - val_accuracy: 0.8281\n",
      "Epoch 43/200\n",
      "22/22 [==============================] - 64s 3s/step - loss: 0.2450 - accuracy: 0.9146 - val_loss: 0.3923 - val_accuracy: 0.8394\n",
      "Epoch 44/200\n",
      "22/22 [==============================] - 66s 3s/step - loss: 0.2282 - accuracy: 0.9208 - val_loss: 0.3736 - val_accuracy: 0.8429\n",
      "Epoch 45/200\n",
      "22/22 [==============================] - 64s 3s/step - loss: 0.2388 - accuracy: 0.9179 - val_loss: 0.3370 - val_accuracy: 0.8672\n",
      "Epoch 46/200\n",
      "22/22 [==============================] - 66s 3s/step - loss: 0.2320 - accuracy: 0.9193 - val_loss: 0.3214 - val_accuracy: 0.8785\n",
      "Epoch 47/200\n",
      "22/22 [==============================] - 65s 3s/step - loss: 0.2315 - accuracy: 0.9204 - val_loss: 0.3405 - val_accuracy: 0.8715\n",
      "Epoch 48/200\n",
      "22/22 [==============================] - 65s 3s/step - loss: 0.2322 - accuracy: 0.9143 - val_loss: 0.3985 - val_accuracy: 0.8307\n",
      "Epoch 49/200\n",
      "22/22 [==============================] - 65s 3s/step - loss: 0.2331 - accuracy: 0.9208 - val_loss: 0.3520 - val_accuracy: 0.8646\n",
      "Epoch 50/200\n",
      "22/22 [==============================] - 65s 3s/step - loss: 0.2248 - accuracy: 0.9204 - val_loss: 0.3986 - val_accuracy: 0.8325\n",
      "Epoch 51/200\n",
      "22/22 [==============================] - 66s 3s/step - loss: 0.2294 - accuracy: 0.9230 - val_loss: 0.3487 - val_accuracy: 0.8628\n",
      "Epoch 52/200\n",
      "22/22 [==============================] - 65s 3s/step - loss: 0.2341 - accuracy: 0.9146 - val_loss: 0.3413 - val_accuracy: 0.8628\n",
      "Epoch 53/200\n",
      "22/22 [==============================] - 65s 3s/step - loss: 0.2283 - accuracy: 0.9233 - val_loss: 0.3605 - val_accuracy: 0.8542\n",
      "Epoch 54/200\n",
      "22/22 [==============================] - 65s 3s/step - loss: 0.2286 - accuracy: 0.9193 - val_loss: 0.3878 - val_accuracy: 0.8385\n",
      "Epoch 55/200\n",
      "22/22 [==============================] - 66s 3s/step - loss: 0.2259 - accuracy: 0.9215 - val_loss: 0.3656 - val_accuracy: 0.8533\n",
      "Epoch 56/200\n",
      "22/22 [==============================] - 67s 3s/step - loss: 0.2291 - accuracy: 0.9168 - val_loss: 0.3993 - val_accuracy: 0.8351\n"
     ]
    },
    {
     "name": "stdout",
     "output_type": "stream",
     "text": [
      "Epoch 57/200\n",
      "22/22 [==============================] - 65s 3s/step - loss: 0.2213 - accuracy: 0.9251 - val_loss: 0.4009 - val_accuracy: 0.8368\n",
      "Epoch 58/200\n",
      "22/22 [==============================] - 66s 3s/step - loss: 0.2133 - accuracy: 0.9259 - val_loss: 0.3841 - val_accuracy: 0.8455\n",
      "Epoch 59/200\n",
      "22/22 [==============================] - 65s 3s/step - loss: 0.2145 - accuracy: 0.9284 - val_loss: 0.4018 - val_accuracy: 0.8359\n",
      "Epoch 60/200\n",
      "22/22 [==============================] - 65s 3s/step - loss: 0.2320 - accuracy: 0.9219 - val_loss: 0.4243 - val_accuracy: 0.8255\n",
      "Epoch 61/200\n",
      "22/22 [==============================] - 65s 3s/step - loss: 0.2202 - accuracy: 0.9291 - val_loss: 0.3446 - val_accuracy: 0.8741\n",
      "Epoch 62/200\n",
      "22/22 [==============================] - 65s 3s/step - loss: 0.2210 - accuracy: 0.9233 - val_loss: 0.3521 - val_accuracy: 0.8628\n",
      "Epoch 63/200\n",
      "22/22 [==============================] - 65s 3s/step - loss: 0.2255 - accuracy: 0.9241 - val_loss: 0.3514 - val_accuracy: 0.8585\n",
      "Epoch 64/200\n",
      "22/22 [==============================] - 65s 3s/step - loss: 0.2126 - accuracy: 0.9313 - val_loss: 0.4014 - val_accuracy: 0.8264\n",
      "Epoch 65/200\n",
      "22/22 [==============================] - 65s 3s/step - loss: 0.2072 - accuracy: 0.9288 - val_loss: 0.3391 - val_accuracy: 0.8646\n",
      "Epoch 66/200\n",
      "22/22 [==============================] - 65s 3s/step - loss: 0.2139 - accuracy: 0.9222 - val_loss: 0.3365 - val_accuracy: 0.8776\n",
      "Epoch 67/200\n",
      "22/22 [==============================] - 65s 3s/step - loss: 0.2196 - accuracy: 0.9273 - val_loss: 0.3503 - val_accuracy: 0.8602\n",
      "Epoch 68/200\n",
      "22/22 [==============================] - 64s 3s/step - loss: 0.2098 - accuracy: 0.9280 - val_loss: 0.3584 - val_accuracy: 0.8568\n",
      "Epoch 69/200\n",
      "22/22 [==============================] - 65s 3s/step - loss: 0.2106 - accuracy: 0.9273 - val_loss: 0.3245 - val_accuracy: 0.8785\n",
      "Epoch 70/200\n",
      "22/22 [==============================] - 66s 3s/step - loss: 0.2104 - accuracy: 0.9325 - val_loss: 0.3798 - val_accuracy: 0.8446\n",
      "Epoch 71/200\n",
      "22/22 [==============================] - 65s 3s/step - loss: 0.2059 - accuracy: 0.9251 - val_loss: 0.3792 - val_accuracy: 0.8464\n",
      "Epoch 72/200\n",
      "22/22 [==============================] - 64s 3s/step - loss: 0.2200 - accuracy: 0.9233 - val_loss: 0.3604 - val_accuracy: 0.8602\n",
      "Epoch 73/200\n",
      "22/22 [==============================] - 64s 3s/step - loss: 0.2114 - accuracy: 0.9291 - val_loss: 0.3292 - val_accuracy: 0.8715\n",
      "Epoch 74/200\n",
      "22/22 [==============================] - 65s 3s/step - loss: 0.2141 - accuracy: 0.9309 - val_loss: 0.3169 - val_accuracy: 0.8819\n",
      "Epoch 75/200\n",
      "22/22 [==============================] - 66s 3s/step - loss: 0.2074 - accuracy: 0.9268 - val_loss: 0.3643 - val_accuracy: 0.8628\n",
      "Epoch 76/200\n",
      "22/22 [==============================] - 65s 3s/step - loss: 0.2169 - accuracy: 0.9259 - val_loss: 0.3687 - val_accuracy: 0.8550\n",
      "Epoch 77/200\n",
      "22/22 [==============================] - 64s 3s/step - loss: 0.2085 - accuracy: 0.9277 - val_loss: 0.3220 - val_accuracy: 0.8785\n",
      "Epoch 78/200\n",
      "22/22 [==============================] - 65s 3s/step - loss: 0.2096 - accuracy: 0.9288 - val_loss: 0.3633 - val_accuracy: 0.8542\n",
      "Epoch 79/200\n",
      "22/22 [==============================] - 65s 3s/step - loss: 0.2083 - accuracy: 0.9306 - val_loss: 0.3805 - val_accuracy: 0.8403\n",
      "Epoch 80/200\n",
      "22/22 [==============================] - 64s 3s/step - loss: 0.2125 - accuracy: 0.9248 - val_loss: 0.3149 - val_accuracy: 0.8811\n",
      "Epoch 81/200\n",
      "22/22 [==============================] - 65s 3s/step - loss: 0.2132 - accuracy: 0.9273 - val_loss: 0.3612 - val_accuracy: 0.8559\n",
      "Epoch 82/200\n",
      "22/22 [==============================] - 65s 3s/step - loss: 0.2152 - accuracy: 0.9248 - val_loss: 0.3574 - val_accuracy: 0.8637\n",
      "Epoch 83/200\n",
      "22/22 [==============================] - 63s 3s/step - loss: 0.2126 - accuracy: 0.9277 - val_loss: 0.3484 - val_accuracy: 0.8698\n",
      "Epoch 84/200\n",
      "22/22 [==============================] - 63s 3s/step - loss: 0.1980 - accuracy: 0.9342 - val_loss: 0.3802 - val_accuracy: 0.8403\n",
      "Epoch 85/200\n",
      "22/22 [==============================] - 64s 3s/step - loss: 0.1934 - accuracy: 0.9385 - val_loss: 0.3799 - val_accuracy: 0.8533\n",
      "Epoch 86/200\n",
      "22/22 [==============================] - 62s 3s/step - loss: 0.2133 - accuracy: 0.9277 - val_loss: 0.3747 - val_accuracy: 0.8524\n",
      "Epoch 87/200\n",
      "22/22 [==============================] - 63s 3s/step - loss: 0.2000 - accuracy: 0.9284 - val_loss: 0.3261 - val_accuracy: 0.8750\n",
      "Epoch 88/200\n",
      "22/22 [==============================] - 63s 3s/step - loss: 0.2048 - accuracy: 0.9327 - val_loss: 0.3734 - val_accuracy: 0.8507\n",
      "Epoch 89/200\n",
      "22/22 [==============================] - 64s 3s/step - loss: 0.1950 - accuracy: 0.9361 - val_loss: 0.3747 - val_accuracy: 0.8516\n",
      "Epoch 90/200\n",
      "22/22 [==============================] - 63s 3s/step - loss: 0.2018 - accuracy: 0.9295 - val_loss: 0.4080 - val_accuracy: 0.8316\n",
      "Epoch 91/200\n",
      "22/22 [==============================] - 62s 3s/step - loss: 0.2008 - accuracy: 0.9342 - val_loss: 0.3543 - val_accuracy: 0.8594\n",
      "Epoch 92/200\n",
      "22/22 [==============================] - 64s 3s/step - loss: 0.2023 - accuracy: 0.9324 - val_loss: 0.3592 - val_accuracy: 0.8542\n",
      "Epoch 93/200\n",
      "22/22 [==============================] - 63s 3s/step - loss: 0.2006 - accuracy: 0.9277 - val_loss: 0.3450 - val_accuracy: 0.8655\n",
      "Epoch 94/200\n",
      "22/22 [==============================] - 63s 3s/step - loss: 0.2001 - accuracy: 0.9295 - val_loss: 0.3753 - val_accuracy: 0.8481\n",
      "Epoch 95/200\n",
      "22/22 [==============================] - 64s 3s/step - loss: 0.1909 - accuracy: 0.9371 - val_loss: 0.3335 - val_accuracy: 0.8776\n",
      "Epoch 96/200\n",
      "22/22 [==============================] - 63s 3s/step - loss: 0.2031 - accuracy: 0.9309 - val_loss: 0.3475 - val_accuracy: 0.8663\n",
      "Epoch 97/200\n",
      "22/22 [==============================] - 66s 3s/step - loss: 0.2023 - accuracy: 0.9288 - val_loss: 0.4183 - val_accuracy: 0.8247\n",
      "Epoch 98/200\n",
      "22/22 [==============================] - 64s 3s/step - loss: 0.1913 - accuracy: 0.9324 - val_loss: 0.3564 - val_accuracy: 0.8594\n",
      "Epoch 99/200\n",
      "22/22 [==============================] - 64s 3s/step - loss: 0.1945 - accuracy: 0.9389 - val_loss: 0.3666 - val_accuracy: 0.8602\n",
      "Epoch 100/200\n",
      "22/22 [==============================] - 64s 3s/step - loss: 0.1944 - accuracy: 0.9338 - val_loss: 0.3706 - val_accuracy: 0.8524\n",
      "Epoch 101/200\n",
      "22/22 [==============================] - 64s 3s/step - loss: 0.1916 - accuracy: 0.9371 - val_loss: 0.3524 - val_accuracy: 0.8594\n",
      "Epoch 102/200\n",
      "22/22 [==============================] - 64s 3s/step - loss: 0.1902 - accuracy: 0.9335 - val_loss: 0.3426 - val_accuracy: 0.8655\n",
      "Epoch 103/200\n",
      "22/22 [==============================] - 65s 3s/step - loss: 0.2015 - accuracy: 0.9291 - val_loss: 0.3670 - val_accuracy: 0.8524\n",
      "Epoch 104/200\n",
      "22/22 [==============================] - 66s 3s/step - loss: 0.1975 - accuracy: 0.9342 - val_loss: 0.3667 - val_accuracy: 0.8533\n",
      "Epoch 105/200\n",
      "22/22 [==============================] - 66s 3s/step - loss: 0.1967 - accuracy: 0.9320 - val_loss: 0.3626 - val_accuracy: 0.8533\n",
      "Epoch 106/200\n",
      "22/22 [==============================] - 65s 3s/step - loss: 0.2024 - accuracy: 0.9320 - val_loss: 0.3670 - val_accuracy: 0.8498\n",
      "Epoch 107/200\n",
      "22/22 [==============================] - 65s 3s/step - loss: 0.1951 - accuracy: 0.9302 - val_loss: 0.3834 - val_accuracy: 0.8498\n",
      "Epoch 108/200\n",
      "22/22 [==============================] - 64s 3s/step - loss: 0.1907 - accuracy: 0.9385 - val_loss: 0.3656 - val_accuracy: 0.8602\n",
      "Epoch 109/200\n",
      "22/22 [==============================] - 65s 3s/step - loss: 0.1927 - accuracy: 0.9371 - val_loss: 0.3183 - val_accuracy: 0.8837\n",
      "Epoch 110/200\n",
      "22/22 [==============================] - 65s 3s/step - loss: 0.2020 - accuracy: 0.9318 - val_loss: 0.3535 - val_accuracy: 0.8646\n",
      "Epoch 111/200\n",
      "22/22 [==============================] - 65s 3s/step - loss: 0.1952 - accuracy: 0.9331 - val_loss: 0.3785 - val_accuracy: 0.8464\n",
      "Epoch 112/200\n",
      "22/22 [==============================] - 64s 3s/step - loss: 0.1948 - accuracy: 0.9331 - val_loss: 0.3916 - val_accuracy: 0.8438\n",
      "Epoch 113/200\n",
      "22/22 [==============================] - 65s 3s/step - loss: 0.1859 - accuracy: 0.9371 - val_loss: 0.3360 - val_accuracy: 0.8681\n",
      "Epoch 114/200\n"
     ]
    },
    {
     "name": "stdout",
     "output_type": "stream",
     "text": [
      "22/22 [==============================] - 65s 3s/step - loss: 0.1984 - accuracy: 0.9309 - val_loss: 0.3264 - val_accuracy: 0.8785\n",
      "Epoch 115/200\n",
      "22/22 [==============================] - 65s 3s/step - loss: 0.2001 - accuracy: 0.9313 - val_loss: 0.3185 - val_accuracy: 0.8845\n",
      "Epoch 116/200\n",
      "22/22 [==============================] - 65s 3s/step - loss: 0.1921 - accuracy: 0.9356 - val_loss: 0.3488 - val_accuracy: 0.8689\n",
      "Epoch 117/200\n",
      "22/22 [==============================] - 65s 3s/step - loss: 0.1898 - accuracy: 0.9367 - val_loss: 0.3768 - val_accuracy: 0.8490\n",
      "Epoch 118/200\n",
      "22/22 [==============================] - 65s 3s/step - loss: 0.1923 - accuracy: 0.9342 - val_loss: 0.3281 - val_accuracy: 0.8741\n",
      "Epoch 119/200\n",
      "22/22 [==============================] - 64s 3s/step - loss: 0.1965 - accuracy: 0.9363 - val_loss: 0.3529 - val_accuracy: 0.8559\n",
      "Epoch 120/200\n",
      "22/22 [==============================] - 65s 3s/step - loss: 0.1871 - accuracy: 0.9407 - val_loss: 0.3106 - val_accuracy: 0.8819\n",
      "Epoch 121/200\n",
      "22/22 [==============================] - 65s 3s/step - loss: 0.1855 - accuracy: 0.9403 - val_loss: 0.3614 - val_accuracy: 0.8576\n",
      "Epoch 122/200\n",
      "22/22 [==============================] - 64s 3s/step - loss: 0.1919 - accuracy: 0.9349 - val_loss: 0.3690 - val_accuracy: 0.8602\n",
      "Epoch 123/200\n",
      "22/22 [==============================] - 64s 3s/step - loss: 0.2006 - accuracy: 0.9241 - val_loss: 0.3678 - val_accuracy: 0.8594\n",
      "Epoch 124/200\n",
      "22/22 [==============================] - 65s 3s/step - loss: 0.1986 - accuracy: 0.9316 - val_loss: 0.3586 - val_accuracy: 0.8637\n",
      "Epoch 125/200\n",
      "22/22 [==============================] - 64s 3s/step - loss: 0.1935 - accuracy: 0.9298 - val_loss: 0.3917 - val_accuracy: 0.8377\n",
      "Epoch 126/200\n",
      "22/22 [==============================] - 64s 3s/step - loss: 0.2117 - accuracy: 0.9284 - val_loss: 0.3242 - val_accuracy: 0.8845\n",
      "Epoch 127/200\n",
      "22/22 [==============================] - 64s 3s/step - loss: 0.1782 - accuracy: 0.9382 - val_loss: 0.3653 - val_accuracy: 0.8542\n",
      "Epoch 128/200\n",
      "22/22 [==============================] - 65s 3s/step - loss: 0.1888 - accuracy: 0.9367 - val_loss: 0.3534 - val_accuracy: 0.8628\n",
      "Epoch 129/200\n",
      "22/22 [==============================] - 64s 3s/step - loss: 0.1778 - accuracy: 0.9360 - val_loss: 0.3490 - val_accuracy: 0.8733\n",
      "Epoch 130/200\n",
      "22/22 [==============================] - 64s 3s/step - loss: 0.1838 - accuracy: 0.9302 - val_loss: 0.3684 - val_accuracy: 0.8628\n",
      "Epoch 131/200\n",
      "22/22 [==============================] - 65s 3s/step - loss: 0.1870 - accuracy: 0.9410 - val_loss: 0.3245 - val_accuracy: 0.8837\n",
      "Epoch 132/200\n",
      "22/22 [==============================] - 65s 3s/step - loss: 0.1827 - accuracy: 0.9367 - val_loss: 0.3609 - val_accuracy: 0.8646\n",
      "Epoch 133/200\n",
      "22/22 [==============================] - 64s 3s/step - loss: 0.1831 - accuracy: 0.9320 - val_loss: 0.3314 - val_accuracy: 0.8802\n",
      "Epoch 134/200\n",
      "22/22 [==============================] - 65s 3s/step - loss: 0.1947 - accuracy: 0.9345 - val_loss: 0.3356 - val_accuracy: 0.8733\n",
      "Epoch 135/200\n",
      "22/22 [==============================] - 64s 3s/step - loss: 0.1740 - accuracy: 0.9425 - val_loss: 0.3832 - val_accuracy: 0.8533\n",
      "Epoch 136/200\n",
      "22/22 [==============================] - 65s 3s/step - loss: 0.1936 - accuracy: 0.9342 - val_loss: 0.3291 - val_accuracy: 0.8828\n",
      "Epoch 137/200\n",
      "22/22 [==============================] - 64s 3s/step - loss: 0.1846 - accuracy: 0.9367 - val_loss: 0.3102 - val_accuracy: 0.8872\n",
      "Epoch 138/200\n",
      "22/22 [==============================] - 65s 3s/step - loss: 0.1920 - accuracy: 0.9345 - val_loss: 0.3858 - val_accuracy: 0.8472\n",
      "Epoch 139/200\n",
      "22/22 [==============================] - 65s 3s/step - loss: 0.1742 - accuracy: 0.9403 - val_loss: 0.3575 - val_accuracy: 0.8672\n",
      "Epoch 140/200\n",
      "22/22 [==============================] - 65s 3s/step - loss: 0.1801 - accuracy: 0.9363 - val_loss: 0.3469 - val_accuracy: 0.8681\n",
      "Epoch 141/200\n",
      "22/22 [==============================] - 66s 3s/step - loss: 0.1794 - accuracy: 0.9403 - val_loss: 0.3166 - val_accuracy: 0.8828\n",
      "Epoch 142/200\n",
      "22/22 [==============================] - 64s 3s/step - loss: 0.1939 - accuracy: 0.9324 - val_loss: 0.3816 - val_accuracy: 0.8455\n",
      "Epoch 143/200\n",
      "22/22 [==============================] - 65s 3s/step - loss: 0.1934 - accuracy: 0.9309 - val_loss: 0.3624 - val_accuracy: 0.8533\n",
      "Epoch 144/200\n",
      "22/22 [==============================] - 64s 3s/step - loss: 0.1834 - accuracy: 0.9367 - val_loss: 0.3308 - val_accuracy: 0.8785\n",
      "Epoch 145/200\n",
      "22/22 [==============================] - 65s 3s/step - loss: 0.1861 - accuracy: 0.9349 - val_loss: 0.3775 - val_accuracy: 0.8611\n",
      "Epoch 146/200\n",
      "22/22 [==============================] - 64s 3s/step - loss: 0.1853 - accuracy: 0.9378 - val_loss: 0.3548 - val_accuracy: 0.8602\n",
      "Epoch 147/200\n",
      "22/22 [==============================] - 64s 3s/step - loss: 0.1900 - accuracy: 0.9331 - val_loss: 0.3671 - val_accuracy: 0.8576\n",
      "Epoch 148/200\n",
      "22/22 [==============================] - 64s 3s/step - loss: 0.1765 - accuracy: 0.9396 - val_loss: 0.4107 - val_accuracy: 0.8385\n",
      "Epoch 149/200\n",
      "22/22 [==============================] - 65s 3s/step - loss: 0.1954 - accuracy: 0.9345 - val_loss: 0.3811 - val_accuracy: 0.8524\n",
      "Epoch 150/200\n",
      "22/22 [==============================] - 64s 3s/step - loss: 0.1812 - accuracy: 0.9400 - val_loss: 0.3011 - val_accuracy: 0.8880\n",
      "Epoch 151/200\n",
      "22/22 [==============================] - 64s 3s/step - loss: 0.1847 - accuracy: 0.9382 - val_loss: 0.3635 - val_accuracy: 0.8594\n",
      "Epoch 152/200\n",
      "22/22 [==============================] - 64s 3s/step - loss: 0.1862 - accuracy: 0.9313 - val_loss: 0.3763 - val_accuracy: 0.8455\n",
      "Epoch 153/200\n",
      "22/22 [==============================] - 68s 3s/step - loss: 0.1710 - accuracy: 0.9432 - val_loss: 0.3729 - val_accuracy: 0.8568\n",
      "Epoch 154/200\n",
      "22/22 [==============================] - 67s 3s/step - loss: 0.1800 - accuracy: 0.9356 - val_loss: 0.3633 - val_accuracy: 0.8576\n",
      "Epoch 155/200\n",
      "22/22 [==============================] - 70s 3s/step - loss: 0.1777 - accuracy: 0.9392 - val_loss: 0.3624 - val_accuracy: 0.8576\n",
      "Epoch 156/200\n",
      "22/22 [==============================] - 70s 3s/step - loss: 0.1876 - accuracy: 0.9378 - val_loss: 0.3484 - val_accuracy: 0.8689\n",
      "Epoch 157/200\n",
      "22/22 [==============================] - 71s 3s/step - loss: 0.1832 - accuracy: 0.9371 - val_loss: 0.3312 - val_accuracy: 0.8793\n",
      "Epoch 158/200\n",
      "22/22 [==============================] - 69s 3s/step - loss: 0.1803 - accuracy: 0.9396 - val_loss: 0.3846 - val_accuracy: 0.8472\n",
      "Epoch 159/200\n",
      "22/22 [==============================] - 72s 3s/step - loss: 0.1774 - accuracy: 0.9392 - val_loss: 0.3845 - val_accuracy: 0.8429\n",
      "Epoch 160/200\n",
      "22/22 [==============================] - 67s 3s/step - loss: 0.1857 - accuracy: 0.9400 - val_loss: 0.3775 - val_accuracy: 0.8524\n",
      "Epoch 161/200\n",
      "22/22 [==============================] - 65s 3s/step - loss: 0.1788 - accuracy: 0.9432 - val_loss: 0.3780 - val_accuracy: 0.8524\n",
      "Epoch 162/200\n",
      "22/22 [==============================] - 66s 3s/step - loss: 0.1872 - accuracy: 0.9371 - val_loss: 0.3511 - val_accuracy: 0.8681\n",
      "Epoch 163/200\n",
      "22/22 [==============================] - 64s 3s/step - loss: 0.1773 - accuracy: 0.9371 - val_loss: 0.3148 - val_accuracy: 0.8845\n",
      "Epoch 164/200\n",
      "22/22 [==============================] - 65s 3s/step - loss: 0.1868 - accuracy: 0.9345 - val_loss: 0.3297 - val_accuracy: 0.8785\n",
      "Epoch 165/200\n",
      "22/22 [==============================] - 66s 3s/step - loss: 0.1784 - accuracy: 0.9345 - val_loss: 0.3618 - val_accuracy: 0.8594\n",
      "Epoch 166/200\n",
      "22/22 [==============================] - 65s 3s/step - loss: 0.1881 - accuracy: 0.9374 - val_loss: 0.4055 - val_accuracy: 0.8368\n",
      "Epoch 167/200\n",
      "22/22 [==============================] - 65s 3s/step - loss: 0.1954 - accuracy: 0.9335 - val_loss: 0.3712 - val_accuracy: 0.8550\n",
      "Epoch 168/200\n",
      "22/22 [==============================] - 65s 3s/step - loss: 0.1787 - accuracy: 0.9345 - val_loss: 0.3708 - val_accuracy: 0.8620\n",
      "Epoch 169/200\n",
      "22/22 [==============================] - 66s 3s/step - loss: 0.1794 - accuracy: 0.9371 - val_loss: 0.3229 - val_accuracy: 0.8802\n",
      "Epoch 170/200\n",
      "22/22 [==============================] - 65s 3s/step - loss: 0.1817 - accuracy: 0.9367 - val_loss: 0.3367 - val_accuracy: 0.8733\n",
      "Epoch 171/200\n"
     ]
    },
    {
     "name": "stdout",
     "output_type": "stream",
     "text": [
      "22/22 [==============================] - 64s 3s/step - loss: 0.1742 - accuracy: 0.9414 - val_loss: 0.3483 - val_accuracy: 0.8672\n",
      "Epoch 172/200\n",
      "22/22 [==============================] - 65s 3s/step - loss: 0.1856 - accuracy: 0.9385 - val_loss: 0.3473 - val_accuracy: 0.8715\n",
      "Epoch 173/200\n",
      "22/22 [==============================] - 65s 3s/step - loss: 0.1833 - accuracy: 0.9371 - val_loss: 0.3640 - val_accuracy: 0.8602\n",
      "Epoch 174/200\n",
      "22/22 [==============================] - 65s 3s/step - loss: 0.1742 - accuracy: 0.9400 - val_loss: 0.3500 - val_accuracy: 0.8628\n",
      "Epoch 175/200\n",
      "22/22 [==============================] - 66s 3s/step - loss: 0.1830 - accuracy: 0.9374 - val_loss: 0.3729 - val_accuracy: 0.8498\n",
      "Epoch 176/200\n",
      "22/22 [==============================] - 65s 3s/step - loss: 0.1735 - accuracy: 0.9414 - val_loss: 0.3809 - val_accuracy: 0.8438\n",
      "Epoch 177/200\n",
      "22/22 [==============================] - 65s 3s/step - loss: 0.1750 - accuracy: 0.9410 - val_loss: 0.3506 - val_accuracy: 0.8637\n",
      "Epoch 178/200\n",
      "22/22 [==============================] - 65s 3s/step - loss: 0.1780 - accuracy: 0.9389 - val_loss: 0.3383 - val_accuracy: 0.8715\n",
      "Epoch 179/200\n",
      "22/22 [==============================] - 64s 3s/step - loss: 0.1833 - accuracy: 0.9363 - val_loss: 0.3122 - val_accuracy: 0.8889\n",
      "Epoch 180/200\n",
      "22/22 [==============================] - 65s 3s/step - loss: 0.1920 - accuracy: 0.9371 - val_loss: 0.3777 - val_accuracy: 0.8516\n",
      "Epoch 181/200\n",
      "22/22 [==============================] - 65s 3s/step - loss: 0.1881 - accuracy: 0.9378 - val_loss: 0.4108 - val_accuracy: 0.8325\n",
      "Epoch 182/200\n",
      "22/22 [==============================] - 65s 3s/step - loss: 0.1793 - accuracy: 0.9403 - val_loss: 0.3564 - val_accuracy: 0.8576\n",
      "Epoch 183/200\n",
      "22/22 [==============================] - 66s 3s/step - loss: 0.1807 - accuracy: 0.9392 - val_loss: 0.3601 - val_accuracy: 0.8602\n",
      "Epoch 184/200\n",
      "22/22 [==============================] - 64s 3s/step - loss: 0.1760 - accuracy: 0.9382 - val_loss: 0.4055 - val_accuracy: 0.8333\n",
      "Epoch 185/200\n",
      "22/22 [==============================] - 64s 3s/step - loss: 0.1859 - accuracy: 0.9374 - val_loss: 0.4107 - val_accuracy: 0.8359\n",
      "Epoch 186/200\n",
      "22/22 [==============================] - 66s 3s/step - loss: 0.1771 - accuracy: 0.9349 - val_loss: 0.3694 - val_accuracy: 0.8559\n",
      "Epoch 187/200\n",
      "22/22 [==============================] - 65s 3s/step - loss: 0.1848 - accuracy: 0.9273 - val_loss: 0.4013 - val_accuracy: 0.8385\n",
      "Epoch 188/200\n",
      "22/22 [==============================] - 65s 3s/step - loss: 0.1798 - accuracy: 0.9447 - val_loss: 0.3997 - val_accuracy: 0.8446\n",
      "Epoch 189/200\n",
      "22/22 [==============================] - 64s 3s/step - loss: 0.1800 - accuracy: 0.9389 - val_loss: 0.3270 - val_accuracy: 0.8793\n",
      "Epoch 190/200\n",
      "22/22 [==============================] - 66s 3s/step - loss: 0.1820 - accuracy: 0.9316 - val_loss: 0.3323 - val_accuracy: 0.8793\n",
      "Epoch 191/200\n",
      "22/22 [==============================] - 64s 3s/step - loss: 0.1840 - accuracy: 0.9389 - val_loss: 0.3280 - val_accuracy: 0.8759\n",
      "Epoch 192/200\n",
      "22/22 [==============================] - 65s 3s/step - loss: 0.1761 - accuracy: 0.9418 - val_loss: 0.3813 - val_accuracy: 0.8490\n",
      "Epoch 193/200\n",
      "22/22 [==============================] - 64s 3s/step - loss: 0.1713 - accuracy: 0.9378 - val_loss: 0.3575 - val_accuracy: 0.8637\n",
      "Epoch 194/200\n",
      "22/22 [==============================] - 66s 3s/step - loss: 0.1731 - accuracy: 0.9432 - val_loss: 0.3372 - val_accuracy: 0.8776\n",
      "Epoch 195/200\n",
      "22/22 [==============================] - 64s 3s/step - loss: 0.1800 - accuracy: 0.9371 - val_loss: 0.3470 - val_accuracy: 0.8724\n",
      "Epoch 196/200\n",
      "22/22 [==============================] - 64s 3s/step - loss: 0.1602 - accuracy: 0.9432 - val_loss: 0.3602 - val_accuracy: 0.8637\n",
      "Epoch 197/200\n",
      "22/22 [==============================] - 64s 3s/step - loss: 0.1771 - accuracy: 0.9421 - val_loss: 0.3363 - val_accuracy: 0.8759\n",
      "Epoch 198/200\n",
      "22/22 [==============================] - 65s 3s/step - loss: 0.1664 - accuracy: 0.9476 - val_loss: 0.3774 - val_accuracy: 0.8594\n",
      "Epoch 199/200\n",
      "22/22 [==============================] - 65s 3s/step - loss: 0.1749 - accuracy: 0.9429 - val_loss: 0.3459 - val_accuracy: 0.8750\n",
      "Epoch 200/200\n",
      "22/22 [==============================] - 64s 3s/step - loss: 0.1792 - accuracy: 0.9382 - val_loss: 0.3636 - val_accuracy: 0.8663\n"
     ]
    }
   ],
   "source": [
    "total_sample= train_generator.n\n",
    "total_test=test_generator.n\n",
    "batch_size=128\n",
    "\n",
    "\n",
    "history= model.fit_generator(\n",
    "            train_generator, \n",
    "            steps_per_epoch=int(total_sample/batch_size),\n",
    "            epochs=200,\n",
    "            validation_data=test_generator,\n",
    "            validation_steps=int(total_test/batch_size))"
   ]
  },
  {
   "cell_type": "code",
   "execution_count": 10,
   "metadata": {},
   "outputs": [],
   "source": [
    "# Save Model-save weights\n",
    "classifier.save(\"model_5tf_vgg16.h5\")"
   ]
  },
  {
   "cell_type": "code",
   "execution_count": 11,
   "metadata": {},
   "outputs": [
    {
     "name": "stdout",
     "output_type": "stream",
     "text": [
      "23/23 [==============================] - 47s 2s/step - loss: 0.1736 - accuracy: 0.9440\n",
      "\n",
      " Train Accuracy: 0.9440027475357056\n",
      "\n",
      " Train Loss: 0.17363686859607697\n"
     ]
    }
   ],
   "source": [
    "# Train loss/ Train Accuracy\n",
    "train_loss, train_acc = model.evaluate(train_generator)\n",
    "print(\"\\n Train Accuracy:\", train_acc)\n",
    "print(\"\\n Train Loss:\", train_loss)"
   ]
  },
  {
   "cell_type": "code",
   "execution_count": 12,
   "metadata": {},
   "outputs": [
    {
     "name": "stdout",
     "output_type": "stream",
     "text": [
      "10/10 [==============================] - 18s 2s/step - loss: 0.3612 - accuracy: 0.8675\n",
      "\n",
      " Test Accuracy: 0.8675282597541809\n",
      "\n",
      " Test Loss: 0.36118143796920776\n"
     ]
    }
   ],
   "source": [
    "# Test Loss/ Test Accuracy\n",
    "test_loss, test_acc= model.evaluate(test_generator)\n",
    "print(\"\\n Test Accuracy:\", test_acc)\n",
    "print(\"\\n Test Loss:\", test_loss)"
   ]
  },
  {
   "cell_type": "code",
   "execution_count": 13,
   "metadata": {},
   "outputs": [
    {
     "data": {
      "text/plain": [
       "['loss', 'accuracy']"
      ]
     },
     "execution_count": 13,
     "metadata": {},
     "output_type": "execute_result"
    }
   ],
   "source": [
    "model.metrics_names"
   ]
  },
  {
   "cell_type": "code",
   "execution_count": 14,
   "metadata": {},
   "outputs": [
    {
     "data": {
      "image/png": "[encoded data removed]",
      "text/plain": [
       "<Figure size 432x288 with 1 Axes>"
      ]
     },
     "metadata": {
      "needs_background": "light"
     },
     "output_type": "display_data"
    }
   ],
   "source": [
    "# PLOT ACCURACY\n",
    "plt.plot(history.history['accuracy'])\n",
    "plt.plot(history.history['val_accuracy'])\n",
    "plt.title('Model 5 Accuracy per Epoch')\n",
    "plt.ylabel('accuracy')\n",
    "plt.xlabel('epoch')\n",
    "plt.legend(['train', 'test'], loc='lower center')\n",
    "plt.show()"
   ]
  },
  {
   "cell_type": "code",
   "execution_count": 16,
   "metadata": {},
   "outputs": [
    {
     "data": {
      "image/png": "[encoded data removed]",
      "text/plain": [
       "<Figure size 432x288 with 1 Axes>"
      ]
     },
     "metadata": {
      "needs_background": "light"
     },
     "output_type": "display_data"
    }
   ],
   "source": [
    "# PLOT LOSS\n",
    "plt.plot(history.history['loss'])\n",
    "plt.plot(history.history['val_loss'])\n",
    "plt.title('Model 5 loss per Epoch')\n",
    "plt.ylabel('loss')\n",
    "plt.xlabel('epoch')\n",
    "plt.legend(['train', 'test'], loc='lower center')\n",
    "plt.show()"
   ]
  },
  {
   "cell_type": "code",
   "execution_count": 17,
   "metadata": {},
   "outputs": [],
   "source": [
    "# Save history of model into csv\n",
    "hist_df5 = pd.DataFrame(history.history) \n",
    "\n",
    "# or save to csv: \n",
    "hist_csv_file = 'history5_tf_vgg16.csv'\n",
    "with open(hist_csv_file, mode='w') as f:\n",
    "    hist_df5.to_csv(f)"
   ]
  },
  {
   "cell_type": "code",
   "execution_count": 19,
   "metadata": {},
   "outputs": [
    {
     "name": "stdout",
     "output_type": "stream",
     "text": [
      "Collecting pydot\n",
      "  Downloading pydot-1.4.1-py2.py3-none-any.whl (19 kB)\n",
      "Requirement already satisfied: pyparsing>=2.1.4 in /Users/bijansamimi/anaconda3/envs/mlenv/lib/python3.7/site-packages (from pydot) (2.4.7)\n",
      "Installing collected packages: pydot\n",
      "Successfully installed pydot-1.4.1\n",
      "Note: you may need to restart the kernel to use updated packages.\n"
     ]
    }
   ],
   "source": [
    "pip install pydot"
   ]
  },
  {
   "cell_type": "code",
   "execution_count": 8,
   "metadata": {},
   "outputs": [],
   "source": [
    "# tf.keras.utils.plot_model(\n",
    "#     classifier, to_file='vgg16.png', show_shapes=False,\n",
    "#     show_layer_names=True, rankdir='TB', expand_nested=False, dpi=96\n",
    "# )\n"
   ]
  },
  {
   "cell_type": "code",
   "execution_count": null,
   "metadata": {},
   "outputs": [],
   "source": []
  }
 ],
 "metadata": {
  "kernelspec": {
   "display_name": "mlenv",
   "language": "python",
   "name": "mlenv"
  },
  "language_info": {
   "codemirror_mode": {
    "name": "ipython",
    "version": 3
   },
   "file_extension": ".py",
   "mimetype": "text/x-python",
   "name": "python",
   "nbconvert_exporter": "python",
   "pygments_lexer": "ipython3",
   "version": "3.7.7"
  }
 },
 "nbformat": 4,
 "nbformat_minor": 4
}
